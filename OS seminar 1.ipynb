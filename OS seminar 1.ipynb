{
 "cells": [
  {
   "cell_type": "markdown",
   "metadata": {},
   "source": [
    "Problem je izbira šminke za mojo punco. Vse šminke so medseboj različne, tako da manjvrednih variant ni bilo. Sprva sem mislil da bo večina atributov bolj kot ne tipa DA/NE, vendar so me podatki prijetno presenetili. Podatki so bili izbrani iz strani proizvajalca, raznih Google iskanj, predvsem pa iz <a href=\"https://www.makeupalley.com/\"> Makeup Alley</a>. Punca je na podlagi večih uporabniških mnenj podatke grobo ocenila. Razne izpise sem v poročilu pustil, da vidite kako se podatki spreminjajo skozi čas. "
   ]
  },
  {
   "cell_type": "code",
   "execution_count": 1,
   "metadata": {
    "collapsed": false
   },
   "outputs": [],
   "source": [
    "import pandas as pd\n"
   ]
  },
  {
   "cell_type": "code",
   "execution_count": 2,
   "metadata": {
    "collapsed": false
   },
   "outputs": [
    {
     "data": {
      "text/html": [
       "<div>\n",
       "<table border=\"1\" class=\"dataframe\">\n",
       "  <thead>\n",
       "    <tr style=\"text-align: right;\">\n",
       "      <th></th>\n",
       "      <th>ZNAMKA</th>\n",
       "      <th>SERIJA</th>\n",
       "      <th>Cena</th>\n",
       "      <th>Obstojnost</th>\n",
       "      <th>Sled</th>\n",
       "      <th>Vlazilnost</th>\n",
       "      <th>Tekstura</th>\n",
       "      <th>Nanos</th>\n",
       "      <th>Vonj</th>\n",
       "      <th>Dostopnost</th>\n",
       "      <th>St. odtenkov</th>\n",
       "      <th>Testirano na zivalih</th>\n",
       "      <th>Izgled</th>\n",
       "      <th>Prekrivnost</th>\n",
       "      <th>Stopnjevanje</th>\n",
       "      <th>Uporabniska ocena</th>\n",
       "    </tr>\n",
       "  </thead>\n",
       "  <tbody>\n",
       "    <tr>\n",
       "      <th>0</th>\n",
       "      <td>Revlon</td>\n",
       "      <td>Super Lustrous Lipstick</td>\n",
       "      <td>5.89</td>\n",
       "      <td>6</td>\n",
       "      <td>malo</td>\n",
       "      <td>0.60</td>\n",
       "      <td>kremasto</td>\n",
       "      <td>direktno</td>\n",
       "      <td>smrdi</td>\n",
       "      <td>lahka</td>\n",
       "      <td>46</td>\n",
       "      <td>NE</td>\n",
       "      <td>mat</td>\n",
       "      <td>0.75</td>\n",
       "      <td>80</td>\n",
       "      <td>4.2</td>\n",
       "    </tr>\n",
       "    <tr>\n",
       "      <th>1</th>\n",
       "      <td>L'Oreal</td>\n",
       "      <td>Color Riche</td>\n",
       "      <td>8.95</td>\n",
       "      <td>6</td>\n",
       "      <td>malo</td>\n",
       "      <td>0.85</td>\n",
       "      <td>gladko</td>\n",
       "      <td>direktno</td>\n",
       "      <td>neprijeten</td>\n",
       "      <td>lahka</td>\n",
       "      <td>6</td>\n",
       "      <td>NE</td>\n",
       "      <td>svetlec</td>\n",
       "      <td>0.65</td>\n",
       "      <td>70</td>\n",
       "      <td>3.9</td>\n",
       "    </tr>\n",
       "    <tr>\n",
       "      <th>2</th>\n",
       "      <td>Rimmel</td>\n",
       "      <td>Lasting Finish by Kate Moss</td>\n",
       "      <td>6.50</td>\n",
       "      <td>2</td>\n",
       "      <td>ja</td>\n",
       "      <td>0.70</td>\n",
       "      <td>gladko</td>\n",
       "      <td>copic</td>\n",
       "      <td>mocen</td>\n",
       "      <td>lahka</td>\n",
       "      <td>4</td>\n",
       "      <td>NE</td>\n",
       "      <td>svetlec</td>\n",
       "      <td>0.85</td>\n",
       "      <td>30</td>\n",
       "      <td>3.8</td>\n",
       "    </tr>\n",
       "    <tr>\n",
       "      <th>3</th>\n",
       "      <td>Kylie Cosmetics</td>\n",
       "      <td>Matte Lip Kits</td>\n",
       "      <td>29.00</td>\n",
       "      <td>6</td>\n",
       "      <td>ne</td>\n",
       "      <td>0.30</td>\n",
       "      <td>tekoče</td>\n",
       "      <td>copic</td>\n",
       "      <td>prijeten</td>\n",
       "      <td>tezka</td>\n",
       "      <td>8</td>\n",
       "      <td>NE</td>\n",
       "      <td>mat</td>\n",
       "      <td>0.95</td>\n",
       "      <td>90</td>\n",
       "      <td>3.1</td>\n",
       "    </tr>\n",
       "    <tr>\n",
       "      <th>4</th>\n",
       "      <td>ABH (Anastasia Beverly Hills)</td>\n",
       "      <td>Liquid Lipstick</td>\n",
       "      <td>20.00</td>\n",
       "      <td>2</td>\n",
       "      <td>ne</td>\n",
       "      <td>0.25</td>\n",
       "      <td>kremasto</td>\n",
       "      <td>direktno</td>\n",
       "      <td>prijeten</td>\n",
       "      <td>srednja</td>\n",
       "      <td>7</td>\n",
       "      <td>NE</td>\n",
       "      <td>mat</td>\n",
       "      <td>0.90</td>\n",
       "      <td>30</td>\n",
       "      <td>3.7</td>\n",
       "    </tr>\n",
       "    <tr>\n",
       "      <th>5</th>\n",
       "      <td>Jeffree Star</td>\n",
       "      <td>Velour Liquid Lipstick</td>\n",
       "      <td>18.00</td>\n",
       "      <td>12</td>\n",
       "      <td>ne</td>\n",
       "      <td>0.35</td>\n",
       "      <td>kremasto</td>\n",
       "      <td>copic</td>\n",
       "      <td>neprijeten</td>\n",
       "      <td>tezka</td>\n",
       "      <td>9</td>\n",
       "      <td>DA</td>\n",
       "      <td>mat</td>\n",
       "      <td>0.95</td>\n",
       "      <td>80</td>\n",
       "      <td>4.2</td>\n",
       "    </tr>\n",
       "    <tr>\n",
       "      <th>6</th>\n",
       "      <td>Maybelline</td>\n",
       "      <td>Color Sensational The Mattes</td>\n",
       "      <td>7.49</td>\n",
       "      <td>2</td>\n",
       "      <td>ja</td>\n",
       "      <td>0.70</td>\n",
       "      <td>gladko</td>\n",
       "      <td>direktno</td>\n",
       "      <td>neprijeten</td>\n",
       "      <td>lahka</td>\n",
       "      <td>4</td>\n",
       "      <td>DA</td>\n",
       "      <td>mat</td>\n",
       "      <td>0.60</td>\n",
       "      <td>65</td>\n",
       "      <td>4.1</td>\n",
       "    </tr>\n",
       "  </tbody>\n",
       "</table>\n",
       "</div>"
      ],
      "text/plain": [
       "                          ZNAMKA                        SERIJA   Cena  \\\n",
       "0                         Revlon       Super Lustrous Lipstick   5.89   \n",
       "1                        L'Oreal                   Color Riche   8.95   \n",
       "2                         Rimmel   Lasting Finish by Kate Moss   6.50   \n",
       "3                Kylie Cosmetics                Matte Lip Kits  29.00   \n",
       "4  ABH (Anastasia Beverly Hills)               Liquid Lipstick  20.00   \n",
       "5                   Jeffree Star        Velour Liquid Lipstick  18.00   \n",
       "6                     Maybelline  Color Sensational The Mattes   7.49   \n",
       "\n",
       "   Obstojnost  Sled  Vlazilnost  Tekstura     Nanos        Vonj Dostopnost  \\\n",
       "0           6  malo        0.60  kremasto  direktno       smrdi      lahka   \n",
       "1           6  malo        0.85    gladko  direktno  neprijeten      lahka   \n",
       "2           2    ja        0.70    gladko     copic       mocen      lahka   \n",
       "3           6    ne        0.30    tekoče     copic    prijeten      tezka   \n",
       "4           2    ne        0.25  kremasto  direktno    prijeten    srednja   \n",
       "5          12    ne        0.35  kremasto     copic  neprijeten      tezka   \n",
       "6           2    ja        0.70    gladko  direktno  neprijeten      lahka   \n",
       "\n",
       "   St. odtenkov Testirano na zivalih   Izgled  Prekrivnost  Stopnjevanje  \\\n",
       "0            46                   NE      mat         0.75            80   \n",
       "1             6                   NE  svetlec         0.65            70   \n",
       "2             4                   NE  svetlec         0.85            30   \n",
       "3             8                   NE      mat         0.95            90   \n",
       "4             7                   NE      mat         0.90            30   \n",
       "5             9                   DA      mat         0.95            80   \n",
       "6             4                   DA      mat         0.60            65   \n",
       "\n",
       "   Uporabniska ocena  \n",
       "0                4.2  \n",
       "1                3.9  \n",
       "2                3.8  \n",
       "3                3.1  \n",
       "4                3.7  \n",
       "5                4.2  \n",
       "6                4.1  "
      ]
     },
     "execution_count": 2,
     "metadata": {},
     "output_type": "execute_result"
    }
   ],
   "source": [
    "sminke = pd.read_excel(open('sminke.xls','rb'), sheetname='List1')\n",
    "sminke"
   ]
  },
  {
   "cell_type": "markdown",
   "metadata": {},
   "source": [
    "Tako izgleda tabela s podatki. Zaradi lažjega parsanja so podatki malce okrnjeni, zato jih bom natančneje opisal tule.\n",
    "<h2>Kriteriji:</h2>\n",
    "<ul>\n",
    "<li> <b>Cena:</b> izražena je v dolarjih.</li>\n",
    "<li> <b>Obstojnost:</b> grob približek koliko ur šminka ostane nanešena.</li>\n",
    "<li> <b>Sled:</b> besedni opis koliko sledi pusti šminka. </li>\n",
    "<li> <b>Vlažilnost:</b> 1.00 bi bila popolnoma tekoča šminka, 0 pa...kamen? </li>\n",
    "<li> <b>Tesktura:</b> opiše kakšna je šminka na otip po nanosu na ustnice. </li>\n",
    "<li> <b>Vonj:</b> tu je bilo največ debate, zaključila sva da močen vonj je nekaj vmes, neprijeten pa je lahko smrad ali le neprijeten. </li>\n",
    "<li> <b>Dostopnost:</b> da nisva preveč pisala sva podatke okrnila. Lahka pomeni da jo prodajajo v Sloveniji v trgovinah, srednja da se jo lahko naroči prek spleta iz bližnjih Evropskih držav, težka pa so spletne trgovine iz npr. ZDA, kjer je poštnina izredno draga.</li>\n",
    "<li> <b>St. odtenkov:</b> koliko različnih odtenkov v seriji barvno ustreza preferencam punce. </li>\n",
    "<li> <b>Testirano na zivalih:</b> mislim sem da bo verjetno pri vseh ne (Jeffree Star je zelo zaveden vegan npr. vendar vseeno testira na živalih...), izkazalo se je da temu ni tako.</li>\n",
    "<li> <b>Izgled:</b> mat je barva, ki ne odseva svetlobe, svetleča pa svetlobo še kako dobro odseva.</li>\n",
    "<li> <b>Prekrivnost: </b> to nam pove kolikšen delež ustnic je prekrit po prvem nanosu.</li>\n",
    "<li> <b>Stopnjevanje: </b> rangirano 1-100, pove nam koliko se šminke pozna če čeznjo nanesemo še eno (druge barve). Boljša stopnja pomeni da se barva zmeša kakor bi se npr. tempere, slabša pa da pride ven res čudna barva.</li>\n",
    "<li> <b>Uporabniška ocena: </b> prepisana iz strani Makeup Alley. </li>\n",
    "</ul>"
   ]
  },
  {
   "cell_type": "markdown",
   "metadata": {
    "collapsed": false
   },
   "source": [
    "Po tem je bilo treba kriterije hierarhično urediti, nato jim določiti uteži. Tu sem odločitve prepustil popolnoma nji, rezultat je sledeče drevo (z utežmi):\n",
    "![title](./drevo2.png)"
   ]
  },
  {
   "cell_type": "markdown",
   "metadata": {},
   "source": [
    "Izpeljani kriteriji so v pravokotnikih. Pri tem sem ji nekoliko pomagal, da sva sestavila smiselne skupine. Uteži sva delala na podlagi ocen (najbolj pomembna je 100, koliko so vse ostale v primerjavi z najbolj pomembno). Izkazalo se je da je vlažilnost izjemno pomembna, vendar je cena vseeno bolj, tehnika pa je tudi malo bolj. "
   ]
  },
  {
   "cell_type": "code",
   "execution_count": 3,
   "metadata": {
    "collapsed": false
   },
   "outputs": [],
   "source": [
    "class Attributes:\n",
    "    def __init__(self, key):\n",
    "        self.root=AttributeNode(key, None, 100)\n",
    "    def addChild(self, whom, what, weight):\n",
    "        self.root.addChild(whom, what, weight)\n",
    "    def printTree(self):\n",
    "        self.root.printTree()\n",
    "    def findNode(self, what):\n",
    "        return self.root.findNode(what)\n",
    "    def normalizeWeights(self):\n",
    "        self.root.weight=1\n",
    "        self.root.children[0].normalizeWeights()\n",
    "    def weighWeights(self):\n",
    "        self.root.weighWeights(1)\n",
    "    def getArray(self):\n",
    "        return self.root.arrayNodes()\n"
   ]
  },
  {
   "cell_type": "code",
   "execution_count": 4,
   "metadata": {
    "collapsed": false
   },
   "outputs": [],
   "source": [
    "global allNodes \n",
    "allNodes=[]"
   ]
  },
  {
   "cell_type": "code",
   "execution_count": 5,
   "metadata": {
    "collapsed": false
   },
   "outputs": [],
   "source": [
    "class AttributeNode:\n",
    "    def __init__(self,key, parent, weight):\n",
    "        self.key=key\n",
    "        self.parent=parent\n",
    "        self.weight=weight\n",
    "        self.children=[]\n",
    "        self.normalized=False\n",
    "    def addChild(self, whom, what, weight):\n",
    "        if self.key == whom:\n",
    "            self.children.append(AttributeNode(what, self, weight))\n",
    "            return True\n",
    "        if len(self.children)>0:\n",
    "            for i in self.children:\n",
    "                i.addChild(whom, what, weight)\n",
    "        return False\n",
    "    def printTree(self):\n",
    "        if self is None:\n",
    "            return False\n",
    "        print(str(self.key)+\" weight: \"+str(self.weight))\n",
    "        if len(self.children)>0:\n",
    "            print(\"with children: \")\n",
    "        for i in self.children:\n",
    "            i.printTree()\n",
    "        return True    \n",
    "    def findNode(self, what):\n",
    "        return True\n",
    "    def arrayNodes(self):\n",
    "        allNodes.extend(self.children)\n",
    "        for i in self.children:\n",
    "            allNodes.extend(i.children) \n",
    "            i.arrayNodes()\n",
    "        #return allKids\n",
    "    def normalizeWeights(self):\n",
    "        if self == None:\n",
    "            return False\n",
    "        nodeNo=0\n",
    "        nodeSum=0\n",
    "        for i in self.parent.children:\n",
    "            nodeSum+=i.weight\n",
    "        for i in self.parent.children:\n",
    "            if i.normalized == False:\n",
    "                i.weight=i.weight/nodeSum\n",
    "                i.normalized = True\n",
    "            if len(i.children)>0:\n",
    "                i.children[0].normalizeWeights()\n",
    "    def weighWeights(self, w):\n",
    "        if self == None:\n",
    "            return\n",
    "        self.weight=self.weight*w\n",
    "        for i in self.children:\n",
    "            i.weighWeights(self.weight)"
   ]
  },
  {
   "cell_type": "markdown",
   "metadata": {},
   "source": [
    "Drevo zgradim kar na roke, saj je vedno isto. "
   ]
  },
  {
   "cell_type": "code",
   "execution_count": 6,
   "metadata": {
    "collapsed": false
   },
   "outputs": [
    {
     "name": "stdout",
     "output_type": "stream",
     "text": [
      "Izbira weight: 100\n",
      "with children: \n",
      "Stvari weight: 95\n",
      "with children: \n",
      "Cena weight: 100\n",
      "St. odtenkov weight: 40\n",
      "Dodana vrednost weight: 70\n",
      "with children: \n",
      "Dostopnost weight: 100\n",
      "Uporabniska ocena weight: 40\n",
      "Testirano na zivalih weight: 20\n",
      "Kvaliteta weight: 100\n",
      "with children: \n",
      "Tehnika weight: 100\n",
      "with children: \n",
      "Obstojnost weight: 100\n",
      "Sled weight: 20\n",
      "Prekrivnost weight: 100\n",
      "Fizika weight: 90\n",
      "with children: \n",
      "Tekstura weight: 40\n",
      "Nanos weight: 20\n",
      "Stopnjevanje weight: 15\n",
      "Izgled weight: 50\n",
      "Udobje weight: 100\n",
      "with children: \n",
      "Vlazilnost weight: 100\n",
      "Vonj weight: 20\n"
     ]
    }
   ],
   "source": [
    "atributi = Attributes(\"Izbira\")\n",
    "atributi.addChild(\"Izbira\",\"Stvari\", 95)\n",
    "atributi.addChild(\"Stvari\",\"Cena\", 100)\n",
    "atributi.addChild(\"Stvari\", \"St. odtenkov\", 40)\n",
    "atributi.addChild(\"Stvari\", \"Dodana vrednost\", 70)\n",
    "atributi.addChild(\"Dodana vrednost\", \"Dostopnost\", 100)\n",
    "atributi.addChild(\"Dodana vrednost\", \"Uporabniska ocena\", 40)\n",
    "atributi.addChild(\"Dodana vrednost\", \"Testirano na zivalih\", 20)\n",
    "\n",
    "atributi.addChild(\"Izbira\", \"Kvaliteta\", 100)\n",
    "atributi.addChild(\"Kvaliteta\", \"Tehnika\", 100)\n",
    "atributi.addChild(\"Tehnika\", \"Obstojnost\", 100)\n",
    "atributi.addChild(\"Tehnika\", \"Sled\", 20)\n",
    "atributi.addChild(\"Tehnika\", \"Prekrivnost\", 100)\n",
    "\n",
    "atributi.addChild(\"Kvaliteta\", \"Fizika\", 90)\n",
    "atributi.addChild(\"Fizika\", \"Tekstura\", 40)\n",
    "atributi.addChild(\"Fizika\", \"Nanos\", 20)\n",
    "atributi.addChild(\"Fizika\", \"Stopnjevanje\", 15)\n",
    "atributi.addChild(\"Fizika\", \"Izgled\", 50)\n",
    "atributi.addChild(\"Fizika\", \"Udobje\", 100)\n",
    "\n",
    "atributi.addChild(\"Udobje\", \"Vlazilnost\", 100)\n",
    "atributi.addChild(\"Udobje\", \"Vonj\", 20)\n",
    "\n",
    "atributi.printTree()"
   ]
  },
  {
   "cell_type": "code",
   "execution_count": null,
   "metadata": {
    "collapsed": false
   },
   "outputs": [],
   "source": [
    "\n"
   ]
  },
  {
   "cell_type": "code",
   "execution_count": 7,
   "metadata": {
    "collapsed": false
   },
   "outputs": [
    {
     "name": "stdout",
     "output_type": "stream",
     "text": [
      "Izbira weight: 1\n",
      "with children: \n",
      "Stvari weight: 0.48717948717948717\n",
      "with children: \n",
      "Cena weight: 0.47619047619047616\n",
      "St. odtenkov weight: 0.19047619047619047\n",
      "Dodana vrednost weight: 0.3333333333333333\n",
      "with children: \n",
      "Dostopnost weight: 0.625\n",
      "Uporabniska ocena weight: 0.25\n",
      "Testirano na zivalih weight: 0.125\n",
      "Kvaliteta weight: 0.5128205128205128\n",
      "with children: \n",
      "Tehnika weight: 0.5263157894736842\n",
      "with children: \n",
      "Obstojnost weight: 0.45454545454545453\n",
      "Sled weight: 0.09090909090909091\n",
      "Prekrivnost weight: 0.45454545454545453\n",
      "Fizika weight: 0.47368421052631576\n",
      "with children: \n",
      "Tekstura weight: 0.17777777777777778\n",
      "Nanos weight: 0.08888888888888889\n",
      "Stopnjevanje weight: 0.06666666666666667\n",
      "Izgled weight: 0.2222222222222222\n",
      "Udobje weight: 0.4444444444444444\n",
      "with children: \n",
      "Vlazilnost weight: 0.8333333333333334\n",
      "Vonj weight: 0.16666666666666666\n"
     ]
    }
   ],
   "source": [
    "atributi.normalizeWeights()\n",
    "atributi.printTree()"
   ]
  },
  {
   "cell_type": "code",
   "execution_count": 8,
   "metadata": {
    "collapsed": false
   },
   "outputs": [
    {
     "name": "stdout",
     "output_type": "stream",
     "text": [
      "Izbira weight: 1\n",
      "with children: \n",
      "Stvari weight: 0.48717948717948717\n",
      "with children: \n",
      "Cena weight: 0.23199023199023197\n",
      "St. odtenkov weight: 0.09279609279609279\n",
      "Dodana vrednost weight: 0.16239316239316237\n",
      "with children: \n",
      "Dostopnost weight: 0.10149572649572648\n",
      "Uporabniska ocena weight: 0.04059829059829059\n",
      "Testirano na zivalih weight: 0.020299145299145296\n",
      "Kvaliteta weight: 0.5128205128205128\n",
      "with children: \n",
      "Tehnika weight: 0.26990553306342774\n",
      "with children: \n",
      "Obstojnost weight: 0.12268433321064896\n",
      "Sled weight: 0.024536866642129795\n",
      "Prekrivnost weight: 0.12268433321064896\n",
      "Fizika weight: 0.24291497975708498\n",
      "with children: \n",
      "Tekstura weight: 0.043184885290148446\n",
      "Nanos weight: 0.021592442645074223\n",
      "Stopnjevanje weight: 0.016194331983805665\n",
      "Izgled weight: 0.05398110661268555\n",
      "Udobje weight: 0.1079622132253711\n",
      "with children: \n",
      "Vlazilnost weight: 0.08996851102114259\n",
      "Vonj weight: 0.017993702204228516\n"
     ]
    }
   ],
   "source": [
    "atributi.weighWeights()\n",
    "atributi.printTree()"
   ]
  },
  {
   "cell_type": "code",
   "execution_count": 9,
   "metadata": {
    "collapsed": false
   },
   "outputs": [],
   "source": [
    "atributi.getArray()\n",
    "allNodes2=set(allNodes)\n",
    "import collections\n",
    "weights = collections.defaultdict(float)\n",
    "for i in allNodes2:\n",
    "    weights[i.key]=i.weight\n",
    "#weights[\"Cena\"]="
   ]
  },
  {
   "cell_type": "code",
   "execution_count": 10,
   "metadata": {
    "collapsed": false
   },
   "outputs": [
    {
     "name": "stdout",
     "output_type": "stream",
     "text": [
      "dict_items([('Vlazilnost', 0.08996851102114259), ('Obstojnost', 0.12268433321064896), ('Udobje', 0.1079622132253711), ('Cena', 0.23199023199023197), ('Sled', 0.024536866642129795), ('Testirano na zivalih', 0.020299145299145296), ('Tehnika', 0.26990553306342774), ('Vonj', 0.017993702204228516), ('Dodana vrednost', 0.16239316239316237), ('Uporabniska ocena', 0.04059829059829059), ('Tekstura', 0.043184885290148446), ('Prekrivnost', 0.12268433321064896), ('Stvari', 0.48717948717948717), ('Fizika', 0.24291497975708498), ('Stopnjevanje', 0.016194331983805665), ('Nanos', 0.021592442645074223), ('Izgled', 0.05398110661268555), ('Dostopnost', 0.10149572649572648), ('St. odtenkov', 0.09279609279609279), ('Kvaliteta', 0.5128205128205128)])\n"
     ]
    }
   ],
   "source": [
    "print(weights.items())"
   ]
  },
  {
   "cell_type": "markdown",
   "metadata": {},
   "source": [
    "V zgornjih nekaj celicah sem ustvaril podatkovno strukturo ki hrani drevo, rezultate uteži sem tudi preveril na kalkulator in je vse pravilno. Za hitrejši lookup sem si ustvaril tudi slovar uteži. Sedaj je bilo treba pretvoriti podatke v koristnosti.\n",
    "<h2>Koristnostne funkcije:</h2>\n",
    "<ul>\n",
    "<li> <b>Cena:</b> obratna linearna funkcija.</li>\n",
    "<li> <b>Obstojnost:</b> linearna funkcija.</li>\n",
    "<li> <b>Sled:</b> linearna funkcija (ne-0, malo-50, da- 100) </li>\n",
    "<li> <b>Vlažilnost:</b> odsekovna linearna funkcija, 0.50-0, 0.75-100, 0.85-50, vse več kot 0.85 pa je 0 \n",
    "![funkcija](./vlazilnost.png)</li>\n",
    "<li> <b>Tesktura:</b> MacBeth (kremasto-100, gladko-67, tekoče-0) </li>\n",
    "<li> <b>Vonj:</b> linearna (smrdi-0, meprijeten-25, mocen-50, prijeten-100) </li>\n",
    "<li> <b>Dostopnost:</b> lookup tabela (tezka-0, srednja-70, lahka-100)</li>\n",
    "<li> <b>St. odtenkov:</b> linearna</li>\n",
    "<li> <b>Testirano na zivalih:</b> DA/NE = 0/100.</li>\n",
    "<li> <b>Izgled:</b> mat/svetleča = 100/0.</li>\n",
    "<li> <b>Prekrivnost: </b> linearna</li>\n",
    "<li> <b>Stopnjevanje: </b> linearna</li>\n",
    "<li> <b>Uporabniška ocena: </b> linearna </li>\n",
    "</ul>"
   ]
  },
  {
   "cell_type": "code",
   "execution_count": 11,
   "metadata": {
    "collapsed": false
   },
   "outputs": [
    {
     "name": "stdout",
     "output_type": "stream",
     "text": [
      "90.0\n"
     ]
    }
   ],
   "source": [
    "def makeLinFunction(mini,maxi, podatek):\n",
    "    razpon=maxi-mini\n",
    "    #print(razpon)\n",
    "    return float((podatek-mini)/razpon)*100\n",
    "def makeReverseLinFunction(mini,maxi, podatek):\n",
    "    razpon=maxi-mini\n",
    "    return float(abs(podatek-maxi)/razpon)*100\n",
    "print(makeReverseLinFunction(20,120,30))"
   ]
  },
  {
   "cell_type": "code",
   "execution_count": 12,
   "metadata": {
    "collapsed": false
   },
   "outputs": [
    {
     "name": "stdout",
     "output_type": "stream",
     "text": [
      "0    0.75\n",
      "1    0.65\n",
      "2    0.85\n",
      "3    0.95\n",
      "4    0.90\n",
      "5    0.95\n",
      "6    0.60\n",
      "Name: Prekrivnost, dtype: float64\n",
      "0.75 usefulness: 42.86\n",
      "0.65 usefulness: 14.29\n",
      "0.85 usefulness: 71.43\n",
      "0.95 usefulness: 100.00\n",
      "0.90 usefulness: 85.71\n",
      "0.95 usefulness: 100.00\n",
      "0.60 usefulness: 0.00\n"
     ]
    }
   ],
   "source": [
    "count=0\n",
    "print(sminke.ix[:,13])\n",
    "mini=min(sminke.ix[:,13])\n",
    "maxi=max(sminke.ix[:,13])\n",
    "data=[]\n",
    "for i in sminke.ix[:,13]:\n",
    "    print(\"%.2f usefulness: %.2f\"%(i,makeLinFunction(mini,maxi,i)))\n",
    "    data.append(makeLinFunction(mini,maxi,i))\n",
    "df3 = pd.DataFrame(data, columns=[\"prekrivnost\"])"
   ]
  },
  {
   "cell_type": "code",
   "execution_count": 13,
   "metadata": {
    "collapsed": false
   },
   "outputs": [],
   "source": [
    "data=collections.defaultdict(list)\n",
    "cols=[]\n",
    "for i in range(2,16):\n",
    "    \n",
    "    if sminke.columns[i] == \"Cena\":\n",
    "        mini=min(sminke.ix[:,i])\n",
    "        maxi=max(sminke.ix[:,i])\n",
    "        for j in sminke.ix[:,i]:\n",
    "            data[\"Cena\"].append(makeReverseLinFunction(mini,maxi,j))\n",
    "        cols.append(\"Cena\")\n",
    "            \n",
    "    elif sminke.columns[i] == \"Sled\":\n",
    "        for j in sminke.ix[:,i]:\n",
    "            if j == \"ne\":\n",
    "                data[\"Sled\"].append(0)\n",
    "            elif j == \"malo\":\n",
    "                data[\"Sled\"].append(50)\n",
    "            else:\n",
    "                data[\"Sled\"].append(100)\n",
    "        cols.append(\"Sled\")\n",
    "                \n",
    "    elif sminke.columns[i] == \"Tekstura\":\n",
    "        for j in sminke.ix[:,i]:\n",
    "            if j == \"kremasto\":\n",
    "                data[\"Tekstura\"].append(100)\n",
    "            elif j == \"gladko\":\n",
    "                data[\"Tekstura\"].append(67)\n",
    "            else:\n",
    "                data[\"Tekstura\"].append(0)\n",
    "    \n",
    "    elif sminke.columns[i] == \"Nanos\" or sminke.columns[i] == \"Testirano na zivalih\" or sminke.columns[i] == \"Izgled\":\n",
    "        for j in sminke.ix[:,i]:\n",
    "            data[sminke.columns[i]].append(int(j == \"copic\" or j == \"NE\" or j==\"mat\"))\n",
    "        cols.append(sminke.columns[i])\n",
    "    \n",
    "    elif sminke.columns[i] == \"Vonj\": #nisem ze zatipkal, takšna je \"lookup tabela\"\n",
    "        for j in sminke.ix[:,i]:\n",
    "            if j == \"smrdi\":\n",
    "                data[sminke.columns[i]].append(0)\n",
    "            elif j == \"neprijeten\":\n",
    "                data[sminke.columns[i]].append(25)\n",
    "            elif j == \"mocen\":\n",
    "                data[sminke.columns[i]].append(50)\n",
    "            else:\n",
    "                data[sminke.columns[i]].append(100)\n",
    "        cols.append(\"Vonj\")\n",
    "        \n",
    "    elif sminke.columns[i] == \"Dostopnost\":\n",
    "        for j in sminke.ix[:,i]:\n",
    "            if j == \"lahka\":\n",
    "                data[sminke.columns[i]].append(100)\n",
    "            elif j == \"srednja\":\n",
    "                data[sminke.columns[i]].append(70)\n",
    "            else:\n",
    "                data[sminke.columns[i]].append(0)\n",
    "        cols.append(\"Dostopnost\")\n",
    "        \n",
    "    elif sminke.columns[i] == \"Vlazilnost\":\n",
    "        for j in sminke.ix[:,i]:\n",
    "            j*=100\n",
    "            if j>70:\n",
    "                if j>85:\n",
    "                    data[sminke.columns[i]].append(0)\n",
    "                else:\n",
    "                    data[sminke.columns[i]].append(makeReverseLinFunction(70,100,j)) #85 mora biti 50, vse več pa je 0\n",
    "            else:\n",
    "                if j<50:\n",
    "                    data[sminke.columns[i]].append(0)\n",
    "                else:\n",
    "                    data[sminke.columns[i]].append(makeLinFunction(50,70,j))\n",
    "        cols.append(\"Vlazilnost\")\n",
    "                \n",
    "    else:\n",
    "        mini=float(min(sminke.ix[:,i]))\n",
    "        maxi=float(max(sminke.ix[:,i]))\n",
    "        for j in sminke.ix[:,i]:\n",
    "            data[sminke.columns[i]].append(makeLinFunction(mini,maxi,j))\n",
    "        cols.append(sminke.columns[i])\n",
    "            "
   ]
  },
  {
   "cell_type": "code",
   "execution_count": 14,
   "metadata": {
    "collapsed": false
   },
   "outputs": [
    {
     "data": {
      "text/plain": [
       "0.23199023199023197"
      ]
     },
     "execution_count": 14,
     "metadata": {},
     "output_type": "execute_result"
    }
   ],
   "source": [
    "weightedData = collections.defaultdict(list)\n",
    "for i,j in data.items():\n",
    "    temp=[]\n",
    "    for k in j:\n",
    "        temp.append(k*weights[i])\n",
    "    weightedData[i]=temp\n",
    "weights[\"Cena\"]"
   ]
  },
  {
   "cell_type": "code",
   "execution_count": null,
   "metadata": {
    "collapsed": false
   },
   "outputs": [],
   "source": []
  },
  {
   "cell_type": "code",
   "execution_count": 15,
   "metadata": {
    "collapsed": false
   },
   "outputs": [
    {
     "data": {
      "text/plain": [
       "defaultdict(list,\n",
       "            {'Cena': [100.0,\n",
       "              86.75897879705755,\n",
       "              97.36045002163566,\n",
       "              0.0,\n",
       "              38.944180008654264,\n",
       "              47.598442232799655,\n",
       "              93.07659022068368],\n",
       "             'Dostopnost': [100, 100, 100, 0, 70, 0, 100],\n",
       "             'Izgled': [1, 0, 0, 1, 1, 1, 1],\n",
       "             'Nanos': [0, 0, 1, 1, 0, 1, 0],\n",
       "             'Obstojnost': [40.0, 40.0, 0.0, 40.0, 0.0, 100.0, 0.0],\n",
       "             'Prekrivnost': [42.85714285714285,\n",
       "              14.28571428571427,\n",
       "              71.42857142857142,\n",
       "              100.0,\n",
       "              85.71428571428574,\n",
       "              100.0,\n",
       "              0.0],\n",
       "             'Sled': [50, 50, 100, 0, 0, 0, 100],\n",
       "             'St. odtenkov': [100.0,\n",
       "              4.761904761904762,\n",
       "              0.0,\n",
       "              9.523809523809524,\n",
       "              7.142857142857142,\n",
       "              11.904761904761903,\n",
       "              0.0],\n",
       "             'Stopnjevanje': [83.33333333333334,\n",
       "              66.66666666666666,\n",
       "              0.0,\n",
       "              100.0,\n",
       "              0.0,\n",
       "              83.33333333333334,\n",
       "              58.333333333333336],\n",
       "             'Tekstura': [100, 67, 67, 0, 100, 100, 67],\n",
       "             'Testirano na zivalih': [1, 1, 1, 1, 1, 0, 0],\n",
       "             'Uporabniska ocena': [100.0,\n",
       "              72.7272727272727,\n",
       "              63.636363636363605,\n",
       "              0.0,\n",
       "              54.545454545454554,\n",
       "              100.0,\n",
       "              90.90909090909086],\n",
       "             'Vlazilnost': [50.000000000000036, 50.0, 100.0, 0, 0, 0, 100.0],\n",
       "             'Vonj': [0, 25, 50, 100, 100, 25, 25]})"
      ]
     },
     "execution_count": 15,
     "metadata": {},
     "output_type": "execute_result"
    }
   ],
   "source": [
    "data"
   ]
  },
  {
   "cell_type": "code",
   "execution_count": 51,
   "metadata": {
    "collapsed": false
   },
   "outputs": [
    {
     "name": "stdout",
     "output_type": "stream",
     "text": [
      "['Revlon Super Lustrous Lipstick', \"L'Oreal Color Riche\", 'Rimmel Lasting Finish by Kate Moss', 'Kylie Cosmetics Matte Lip Kits', 'ABH (Anastasia Beverly Hills) Liquid Lipstick', 'Jeffree Star Velour Liquid Lipstick', 'Maybelline Color Sensational The Mattes']\n"
     ]
    }
   ],
   "source": [
    "names={}\n",
    "for j in range(0,7): \n",
    "    names[j]=str(sminke.iloc[j,0])+\" \"+str(sminke.iloc[j,1])\n",
    "#names\n",
    "print(list(names.values()))"
   ]
  },
  {
   "cell_type": "code",
   "execution_count": 56,
   "metadata": {
    "collapsed": false
   },
   "outputs": [
    {
     "data": {
      "text/plain": [
       "['Revlon',\n",
       " \"L'Oreal\",\n",
       " 'Rimmel',\n",
       " 'Kylie Cosmetics',\n",
       " 'ABH (Anastasia Beverly Hills)',\n",
       " 'Jeffree Star',\n",
       " 'Maybelline']"
      ]
     },
     "execution_count": 56,
     "metadata": {},
     "output_type": "execute_result"
    }
   ],
   "source": [
    "tmp=[]\n",
    "for j in range(0,7): \n",
    "    tmp.append((str(sminke.iloc[j,0])))\n",
    "tmp"
   ]
  },
  {
   "cell_type": "code",
   "execution_count": 17,
   "metadata": {
    "collapsed": false
   },
   "outputs": [],
   "source": [
    "sminkeKoristnosti = pd.DataFrame(list(weightedData.values()), list(weightedData.keys()))\n",
    "sminkeKoristnosti.rename(columns=names, inplace=True)"
   ]
  },
  {
   "cell_type": "code",
   "execution_count": 18,
   "metadata": {
    "collapsed": false
   },
   "outputs": [
    {
     "data": {
      "text/html": [
       "<div>\n",
       "<table border=\"1\" class=\"dataframe\">\n",
       "  <thead>\n",
       "    <tr style=\"text-align: right;\">\n",
       "      <th></th>\n",
       "      <th>Revlon Super Lustrous Lipstick</th>\n",
       "      <th>L'Oreal Color Riche</th>\n",
       "      <th>Rimmel Lasting Finish by Kate Moss</th>\n",
       "      <th>Kylie Cosmetics Matte Lip Kits</th>\n",
       "      <th>ABH (Anastasia Beverly Hills) Liquid Lipstick</th>\n",
       "      <th>Jeffree Star Velour Liquid Lipstick</th>\n",
       "      <th>Maybelline Color Sensational The Mattes</th>\n",
       "    </tr>\n",
       "  </thead>\n",
       "  <tbody>\n",
       "    <tr>\n",
       "      <th>Obstojnost</th>\n",
       "      <td>4.907373</td>\n",
       "      <td>4.907373</td>\n",
       "      <td>0.000000</td>\n",
       "      <td>4.907373</td>\n",
       "      <td>0.000000</td>\n",
       "      <td>12.268433</td>\n",
       "      <td>0.000000</td>\n",
       "    </tr>\n",
       "    <tr>\n",
       "      <th>Sled</th>\n",
       "      <td>1.226843</td>\n",
       "      <td>1.226843</td>\n",
       "      <td>2.453687</td>\n",
       "      <td>0.000000</td>\n",
       "      <td>0.000000</td>\n",
       "      <td>0.000000</td>\n",
       "      <td>2.453687</td>\n",
       "    </tr>\n",
       "    <tr>\n",
       "      <th>Stopnjevanje</th>\n",
       "      <td>1.349528</td>\n",
       "      <td>1.079622</td>\n",
       "      <td>0.000000</td>\n",
       "      <td>1.619433</td>\n",
       "      <td>0.000000</td>\n",
       "      <td>1.349528</td>\n",
       "      <td>0.944669</td>\n",
       "    </tr>\n",
       "    <tr>\n",
       "      <th>Vlazilnost</th>\n",
       "      <td>4.498426</td>\n",
       "      <td>4.498426</td>\n",
       "      <td>8.996851</td>\n",
       "      <td>0.000000</td>\n",
       "      <td>0.000000</td>\n",
       "      <td>0.000000</td>\n",
       "      <td>8.996851</td>\n",
       "    </tr>\n",
       "    <tr>\n",
       "      <th>Testirano na zivalih</th>\n",
       "      <td>0.020299</td>\n",
       "      <td>0.020299</td>\n",
       "      <td>0.020299</td>\n",
       "      <td>0.020299</td>\n",
       "      <td>0.020299</td>\n",
       "      <td>0.000000</td>\n",
       "      <td>0.000000</td>\n",
       "    </tr>\n",
       "    <tr>\n",
       "      <th>Vonj</th>\n",
       "      <td>0.000000</td>\n",
       "      <td>0.449843</td>\n",
       "      <td>0.899685</td>\n",
       "      <td>1.799370</td>\n",
       "      <td>1.799370</td>\n",
       "      <td>0.449843</td>\n",
       "      <td>0.449843</td>\n",
       "    </tr>\n",
       "    <tr>\n",
       "      <th>Prekrivnost</th>\n",
       "      <td>5.257900</td>\n",
       "      <td>1.752633</td>\n",
       "      <td>8.763167</td>\n",
       "      <td>12.268433</td>\n",
       "      <td>10.515800</td>\n",
       "      <td>12.268433</td>\n",
       "      <td>0.000000</td>\n",
       "    </tr>\n",
       "    <tr>\n",
       "      <th>Uporabniska ocena</th>\n",
       "      <td>4.059829</td>\n",
       "      <td>2.952603</td>\n",
       "      <td>2.583528</td>\n",
       "      <td>0.000000</td>\n",
       "      <td>2.214452</td>\n",
       "      <td>4.059829</td>\n",
       "      <td>3.690754</td>\n",
       "    </tr>\n",
       "    <tr>\n",
       "      <th>Tekstura</th>\n",
       "      <td>4.318489</td>\n",
       "      <td>2.893387</td>\n",
       "      <td>2.893387</td>\n",
       "      <td>0.000000</td>\n",
       "      <td>4.318489</td>\n",
       "      <td>4.318489</td>\n",
       "      <td>2.893387</td>\n",
       "    </tr>\n",
       "    <tr>\n",
       "      <th>Nanos</th>\n",
       "      <td>0.000000</td>\n",
       "      <td>0.000000</td>\n",
       "      <td>0.021592</td>\n",
       "      <td>0.021592</td>\n",
       "      <td>0.000000</td>\n",
       "      <td>0.021592</td>\n",
       "      <td>0.000000</td>\n",
       "    </tr>\n",
       "    <tr>\n",
       "      <th>Cena</th>\n",
       "      <td>23.199023</td>\n",
       "      <td>20.127236</td>\n",
       "      <td>22.586673</td>\n",
       "      <td>0.000000</td>\n",
       "      <td>9.034669</td>\n",
       "      <td>11.042374</td>\n",
       "      <td>21.592860</td>\n",
       "    </tr>\n",
       "    <tr>\n",
       "      <th>Izgled</th>\n",
       "      <td>0.053981</td>\n",
       "      <td>0.000000</td>\n",
       "      <td>0.000000</td>\n",
       "      <td>0.053981</td>\n",
       "      <td>0.053981</td>\n",
       "      <td>0.053981</td>\n",
       "      <td>0.053981</td>\n",
       "    </tr>\n",
       "    <tr>\n",
       "      <th>St. odtenkov</th>\n",
       "      <td>9.279609</td>\n",
       "      <td>0.441886</td>\n",
       "      <td>0.000000</td>\n",
       "      <td>0.883772</td>\n",
       "      <td>0.662829</td>\n",
       "      <td>1.104715</td>\n",
       "      <td>0.000000</td>\n",
       "    </tr>\n",
       "    <tr>\n",
       "      <th>Dostopnost</th>\n",
       "      <td>10.149573</td>\n",
       "      <td>10.149573</td>\n",
       "      <td>10.149573</td>\n",
       "      <td>0.000000</td>\n",
       "      <td>7.104701</td>\n",
       "      <td>0.000000</td>\n",
       "      <td>10.149573</td>\n",
       "    </tr>\n",
       "  </tbody>\n",
       "</table>\n",
       "</div>"
      ],
      "text/plain": [
       "                      Revlon Super Lustrous Lipstick  L'Oreal Color Riche  \\\n",
       "Obstojnost                                  4.907373             4.907373   \n",
       "Sled                                        1.226843             1.226843   \n",
       "Stopnjevanje                                1.349528             1.079622   \n",
       "Vlazilnost                                  4.498426             4.498426   \n",
       "Testirano na zivalih                        0.020299             0.020299   \n",
       "Vonj                                        0.000000             0.449843   \n",
       "Prekrivnost                                 5.257900             1.752633   \n",
       "Uporabniska ocena                           4.059829             2.952603   \n",
       "Tekstura                                    4.318489             2.893387   \n",
       "Nanos                                       0.000000             0.000000   \n",
       "Cena                                       23.199023            20.127236   \n",
       "Izgled                                      0.053981             0.000000   \n",
       "St. odtenkov                                9.279609             0.441886   \n",
       "Dostopnost                                 10.149573            10.149573   \n",
       "\n",
       "                      Rimmel Lasting Finish by Kate Moss  \\\n",
       "Obstojnost                                      0.000000   \n",
       "Sled                                            2.453687   \n",
       "Stopnjevanje                                    0.000000   \n",
       "Vlazilnost                                      8.996851   \n",
       "Testirano na zivalih                            0.020299   \n",
       "Vonj                                            0.899685   \n",
       "Prekrivnost                                     8.763167   \n",
       "Uporabniska ocena                               2.583528   \n",
       "Tekstura                                        2.893387   \n",
       "Nanos                                           0.021592   \n",
       "Cena                                           22.586673   \n",
       "Izgled                                          0.000000   \n",
       "St. odtenkov                                    0.000000   \n",
       "Dostopnost                                     10.149573   \n",
       "\n",
       "                      Kylie Cosmetics Matte Lip Kits  \\\n",
       "Obstojnost                                  4.907373   \n",
       "Sled                                        0.000000   \n",
       "Stopnjevanje                                1.619433   \n",
       "Vlazilnost                                  0.000000   \n",
       "Testirano na zivalih                        0.020299   \n",
       "Vonj                                        1.799370   \n",
       "Prekrivnost                                12.268433   \n",
       "Uporabniska ocena                           0.000000   \n",
       "Tekstura                                    0.000000   \n",
       "Nanos                                       0.021592   \n",
       "Cena                                        0.000000   \n",
       "Izgled                                      0.053981   \n",
       "St. odtenkov                                0.883772   \n",
       "Dostopnost                                  0.000000   \n",
       "\n",
       "                      ABH (Anastasia Beverly Hills) Liquid Lipstick  \\\n",
       "Obstojnost                                                 0.000000   \n",
       "Sled                                                       0.000000   \n",
       "Stopnjevanje                                               0.000000   \n",
       "Vlazilnost                                                 0.000000   \n",
       "Testirano na zivalih                                       0.020299   \n",
       "Vonj                                                       1.799370   \n",
       "Prekrivnost                                               10.515800   \n",
       "Uporabniska ocena                                          2.214452   \n",
       "Tekstura                                                   4.318489   \n",
       "Nanos                                                      0.000000   \n",
       "Cena                                                       9.034669   \n",
       "Izgled                                                     0.053981   \n",
       "St. odtenkov                                               0.662829   \n",
       "Dostopnost                                                 7.104701   \n",
       "\n",
       "                      Jeffree Star Velour Liquid Lipstick  \\\n",
       "Obstojnost                                      12.268433   \n",
       "Sled                                             0.000000   \n",
       "Stopnjevanje                                     1.349528   \n",
       "Vlazilnost                                       0.000000   \n",
       "Testirano na zivalih                             0.000000   \n",
       "Vonj                                             0.449843   \n",
       "Prekrivnost                                     12.268433   \n",
       "Uporabniska ocena                                4.059829   \n",
       "Tekstura                                         4.318489   \n",
       "Nanos                                            0.021592   \n",
       "Cena                                            11.042374   \n",
       "Izgled                                           0.053981   \n",
       "St. odtenkov                                     1.104715   \n",
       "Dostopnost                                       0.000000   \n",
       "\n",
       "                      Maybelline Color Sensational The Mattes  \n",
       "Obstojnost                                           0.000000  \n",
       "Sled                                                 2.453687  \n",
       "Stopnjevanje                                         0.944669  \n",
       "Vlazilnost                                           8.996851  \n",
       "Testirano na zivalih                                 0.000000  \n",
       "Vonj                                                 0.449843  \n",
       "Prekrivnost                                          0.000000  \n",
       "Uporabniska ocena                                    3.690754  \n",
       "Tekstura                                             2.893387  \n",
       "Nanos                                                0.000000  \n",
       "Cena                                                21.592860  \n",
       "Izgled                                               0.053981  \n",
       "St. odtenkov                                         0.000000  \n",
       "Dostopnost                                          10.149573  "
      ]
     },
     "execution_count": 18,
     "metadata": {},
     "output_type": "execute_result"
    }
   ],
   "source": [
    "sminkeKoristnosti"
   ]
  },
  {
   "cell_type": "markdown",
   "metadata": {
    "collapsed": false
   },
   "source": [
    "Tako izgleda končna tabela z vsemi uteženimi koristnostmi, vse kar mi je preostalo je sešteti koristnosti po stolpcih in pregledati rezultate."
   ]
  },
  {
   "cell_type": "code",
   "execution_count": 116,
   "metadata": {
    "collapsed": false
   },
   "outputs": [
    {
     "name": "stdout",
     "output_type": "stream",
     "text": [
      "2.45368666421\n"
     ]
    }
   ],
   "source": [
    "sums=collections.defaultdict(float)\n",
    "sumsraw=collections.defaultdict(float)\n",
    "sminke.iloc[4,1]\n",
    "print(sminkeKoristnosti.iloc[1,2])"
   ]
  },
  {
   "cell_type": "code",
   "execution_count": 117,
   "metadata": {
    "collapsed": false
   },
   "outputs": [],
   "source": [
    "import numpy as np\n",
    "for j in range(0,7): #stvar je narobe obrnjena\n",
    "    name=str(sminke.iloc[j,0])+\" \"+str(sminke.iloc[j,1]) \n",
    "    #print(np.sum(sminkeKoristnosti.iloc[:,j]))\n",
    "    sums[name] = np.sum(sminkeKoristnosti.iloc[:,j])\n",
    "    sumsraw[j]=np.sum(sminkeKoristnosti.iloc[:,j])\n",
    "        \n",
    "        \n",
    "        \n",
    "        "
   ]
  },
  {
   "cell_type": "markdown",
   "metadata": {},
   "source": [
    "Ustvaril sem 2 slovarja, en hrani vrednosti po imenih, drugi pa po indeksih v tabeli. Lahko bi bolje naredil in prihranil nekaj spomina, vendar bom za izris izpisoval le zname (da ne zasede preveč prostora), za izpise pa polna imena."
   ]
  },
  {
   "cell_type": "code",
   "execution_count": 118,
   "metadata": {
    "collapsed": false
   },
   "outputs": [
    {
     "data": {
      "text/plain": [
       "defaultdict(float,\n",
       "            {'ABH (Anastasia Beverly Hills) Liquid Lipstick': 35.72459064912166,\n",
       "             'Jeffree Star Velour Liquid Lipstick': 46.93721704704483,\n",
       "             'Kylie Cosmetics Matte Lip Kits': 21.574255075194916,\n",
       "             \"L'Oreal Color Riche\": 50.49972406698125,\n",
       "             'Maybelline Color Sensational The Mattes': 51.225604206690086,\n",
       "             'Revlon Super Lustrous Lipstick': 68.32087284060968,\n",
       "             'Rimmel Lasting Finish by Kate Moss': 59.368442057119196})"
      ]
     },
     "execution_count": 118,
     "metadata": {},
     "output_type": "execute_result"
    }
   ],
   "source": [
    "sums"
   ]
  },
  {
   "cell_type": "code",
   "execution_count": 119,
   "metadata": {
    "collapsed": false
   },
   "outputs": [
    {
     "data": {
      "text/plain": [
       "defaultdict(float,\n",
       "            {0: 68.32087284060968,\n",
       "             1: 50.49972406698125,\n",
       "             2: 59.368442057119196,\n",
       "             3: 21.574255075194916,\n",
       "             4: 35.72459064912166,\n",
       "             5: 46.93721704704483,\n",
       "             6: 51.225604206690086})"
      ]
     },
     "execution_count": 119,
     "metadata": {},
     "output_type": "execute_result"
    }
   ],
   "source": [
    "sumsraw"
   ]
  },
  {
   "cell_type": "markdown",
   "metadata": {},
   "source": [
    "Zmagovalna šminka je torej Revlon Super Lustrous Lipstick! Na drugem mestu pa je šminka Rimmel. Zato bom te dve dal pod drobnogled in ju primerjal medseboj. S punco sva se posvetovala kaj je na eni bolje kot na drugi. Zanimivo je da sta si šminki dejansko zelo različni po podatkih."
   ]
  },
  {
   "cell_type": "code",
   "execution_count": 22,
   "metadata": {
    "collapsed": false
   },
   "outputs": [
    {
     "data": {
      "text/plain": [
       "ZNAMKA                                   Revlon\n",
       "SERIJA                  Super Lustrous Lipstick\n",
       "Cena                                       5.89\n",
       "Obstojnost                                    6\n",
       "Sled                                       malo\n",
       "Vlazilnost                                  0.6\n",
       "Tekstura                               kremasto\n",
       "Nanos                                  direktno\n",
       "Vonj                                      smrdi\n",
       "Dostopnost                                lahka\n",
       "St. odtenkov                                 46\n",
       "Testirano na zivalih                         NE\n",
       "Izgled                                      mat\n",
       "Prekrivnost                                0.75\n",
       "Stopnjevanje                                 80\n",
       "Uporabniska ocena                           4.2\n",
       "Name: 0, dtype: object"
      ]
     },
     "execution_count": 22,
     "metadata": {},
     "output_type": "execute_result"
    }
   ],
   "source": [
    "sminke.iloc[0,:]"
   ]
  },
  {
   "cell_type": "code",
   "execution_count": 23,
   "metadata": {
    "collapsed": false
   },
   "outputs": [
    {
     "name": "stdout",
     "output_type": "stream",
     "text": [
      "Cena\n",
      "Revlon 5.89 - 6.5 Rimmel\n",
      "Obstojnost\n",
      "Revlon 6 - 2 Rimmel\n",
      "Sled\n",
      "Revlon malo - ja Rimmel\n",
      "Vlazilnost\n",
      "Revlon 0.6 - 0.7 Rimmel\n",
      "Tekstura\n",
      "Revlon kremasto - gladko Rimmel\n",
      "Nanos\n",
      "Revlon direktno - copic Rimmel\n",
      "Vonj\n",
      "Revlon smrdi - mocen Rimmel\n",
      "Dostopnost\n",
      "Revlon lahka - lahka Rimmel\n",
      "St. odtenkov\n",
      "Revlon 46 - 4 Rimmel\n",
      "Testirano na zivalih\n",
      "Revlon NE - NE Rimmel\n",
      "Izgled\n",
      "Revlon mat - svetlec Rimmel\n",
      "Prekrivnost\n",
      "Revlon 0.75 - 0.85 Rimmel\n",
      "Stopnjevanje\n",
      "Revlon 80 - 30 Rimmel\n",
      "Uporabniska ocena\n",
      "Revlon 4.2 - 3.8 Rimmel\n"
     ]
    }
   ],
   "source": [
    "for i in range(0,14):\n",
    "    print(\"%s\\nRevlon %s - %s Rimmel\"%(str(sminke.columns[i+2]), str(sminke.iloc[0,i+2]),str(sminke.iloc[2,i+2])))"
   ]
  },
  {
   "cell_type": "code",
   "execution_count": 98,
   "metadata": {
    "collapsed": false
   },
   "outputs": [
    {
     "name": "stdout",
     "output_type": "stream",
     "text": [
      "Legend:\n",
      "0: Revlon\n",
      "1: L'Oreal\n",
      "2: Rimmel\n",
      "3: Kylie Cosmetics\n",
      "4: ABH\n",
      "5: Jeffree Star\n",
      "6: Maybelline\n"
     ]
    },
    {
     "data": {
      "image/png": "[encoded data removed]",
      "text/plain": [
       "<matplotlib.figure.Figure at 0x2440cc56f98>"
      ]
     },
     "metadata": {},
     "output_type": "display_data"
    }
   ],
   "source": [
    "%matplotlib inline\n",
    "import matplotlib.pyplot as plt\n",
    "import matplotlib.patches as patches\n",
    "def drawMap(catx, caty):\n",
    "    xdata=list(weightedData[catx])\n",
    "    ydata=list(weightedData[caty])\n",
    "    names =['Revlon',\n",
    " \"L'Oreal\",\n",
    " 'Rimmel',\n",
    " 'Kylie Cosmetics',\n",
    " 'ABH',\n",
    " 'Jeffree Star',\n",
    " 'Maybelline']\n",
    "    print(\"Legend:\")\n",
    "    plt.scatter(xdata,ydata, marker='o', c='yellow', s=200)\n",
    "    for i in range(len(names)):\n",
    "        print(\"%i: %s\"%(i,names[i]))\n",
    "        plt.annotate(\n",
    "        i, \n",
    "        xy = (xdata[i], ydata[i]), xytext=(xdata[i], ydata[i]), ha = 'center', va = 'center')\n",
    "    plt.xlim([min(xdata)-0.5*max(xdata), max(xdata)+0.5*max(xdata)]) #0.5 ker je toliko širina kroga\n",
    "    plt.ylim([min(ydata)-0.5*max(ydata), max(ydata)+0.5*max(ydata)])\n",
    "    plt.xlabel(catx)\n",
    "    plt.ylabel(caty)\n",
    "    plt.show()\n",
    "drawMap(\"Cena\",\"Nanos\")\n",
    "    \n",
    "    "
   ]
  },
  {
   "cell_type": "markdown",
   "metadata": {},
   "source": [
    "Zgoraj sem izdelal funkcijo za izris map diagrama. Zgoraj je npr. izrisan diagram koristnosti nanosa in cene."
   ]
  },
  {
   "cell_type": "code",
   "execution_count": 160,
   "metadata": {
    "collapsed": false
   },
   "outputs": [
    {
     "data": {
      "image/png": "[encoded data removed]",
      "text/plain": [
       "<matplotlib.figure.Figure at 0x2440d1b0f60>"
      ]
     },
     "metadata": {},
     "output_type": "display_data"
    }
   ],
   "source": [
    "def drawSensitivity(catx):\n",
    "    xdata=list(weightedData[catx]) \n",
    "    names =['Revlon',\n",
    " \"L'Oreal\",\n",
    " 'Rimmel',\n",
    " 'Kylie Cosmetics',\n",
    " 'ABH',\n",
    " 'Jeffree Star',\n",
    " 'Maybelline']\n",
    "    for i in range(len(xdata)):\n",
    "        x1=weights[catx]\n",
    "        x2=1\n",
    "        y1=sumsraw[i]\n",
    "        y2=data[catx][i]\n",
    "        k=(y2-y1)/(x2-x1)\n",
    "        n=y2-k*x2\n",
    "        y0=k*0+n\n",
    "        plt.plot([0,x2],[y0,y2], label=names[i])\n",
    "    #plt.plot([x1,100])\n",
    "    #plt.legend(loc='upper right')\n",
    "    plt.legend(bbox_to_anchor=(0., 1.02, 1., .102), loc=3,\n",
    "           ncol=2, mode=\"expand\", borderaxespad=0.)\n",
    "    plt.plot([x1,x1],[0,100],'k-')\n",
    "    plt.plot([x1+0.15,x1+0.15],[0,100],'k--')\n",
    "    plt.plot([x1-0.15,x1-0.15],[0,100],'k--')\n",
    "    plt.xlim([0,1])\n",
    "    plt.ylim([0,100])\n",
    "    plt.show()\n",
    "drawSensitivity(\"Vlazilnost\")"
   ]
  },
  {
   "cell_type": "code",
   "execution_count": null,
   "metadata": {
    "collapsed": true
   },
   "outputs": [],
   "source": []
  }
 ],
 "metadata": {
  "anaconda-cloud": {},
  "kernelspec": {
   "display_name": "Python [default]",
   "language": "python",
   "name": "python3"
  },
  "language_info": {
   "codemirror_mode": {
    "name": "ipython",
    "version": 3
   },
   "file_extension": ".py",
   "mimetype": "text/x-python",
   "name": "python",
   "nbconvert_exporter": "python",
   "pygments_lexer": "ipython3",
   "version": "3.5.2"
  }
 },
 "nbformat": 4,
 "nbformat_minor": 1
}
