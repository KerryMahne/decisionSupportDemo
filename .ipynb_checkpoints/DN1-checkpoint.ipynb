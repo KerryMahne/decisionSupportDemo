{
 "cells": [
  {
   "cell_type": "code",
   "execution_count": 2,
   "metadata": {
    "collapsed": false
   },
   "outputs": [],
   "source": [
    "from numpy import *\n",
    "\n",
    "% matplotlib inline\n",
    "import matplotlib.pyplot as plt"
   ]
  },
  {
   "cell_type": "markdown",
   "metadata": {},
   "source": [
    "Importamo matplotlib, zato da lahko rišemo. "
   ]
  },
  {
   "cell_type": "code",
   "execution_count": 3,
   "metadata": {
    "collapsed": false
   },
   "outputs": [],
   "source": [
    "from Orange.data import Table\n"
   ]
  },
  {
   "cell_type": "code",
   "execution_count": 4,
   "metadata": {
    "collapsed": false
   },
   "outputs": [],
   "source": [
    "import Orange.data\n",
    "ratings = Orange.data.Table(\"ratings.csv\")\n"
   ]
  },
  {
   "cell_type": "code",
   "execution_count": 5,
   "metadata": {
    "collapsed": false
   },
   "outputs": [],
   "source": [
    "tags = Orange.data.Table(\"tags.csv\")\n",
    "cast = Orange.data.Table(\"cast.csv\")\n",
    "links = Orange.data.Table(\"links.csv\")\n",
    "movies = Orange.data.Table(\"movies.csv\")\n"
   ]
  },
  {
   "cell_type": "markdown",
   "metadata": {},
   "source": [
    "Nisem uporabil csv readerja, ampak sem kar direktno uporabil Orange in v tabele naložil .csv datoteke. Nato sem naprej operiral z podatki. "
   ]
  },
  {
   "cell_type": "code",
   "execution_count": 64,
   "metadata": {
    "collapsed": false
   },
   "outputs": [
    {
     "name": "stdout",
     "output_type": "stream",
     "text": [
      "2008 -08 -05\n"
     ]
    }
   ],
   "source": [
    "from datetime import datetime\n",
    "def changetime(t):\n",
    "#t = 1217897793 # Unix - time\n",
    "    return datetime.fromtimestamp(t).strftime(\"%Y -%m -%d\")\n",
    "print(changetime(1217897794))"
   ]
  },
  {
   "cell_type": "code",
   "execution_count": 7,
   "metadata": {
    "collapsed": false
   },
   "outputs": [],
   "source": [
    "from Orange.data.filter import SameValue"
   ]
  },
  {
   "cell_type": "code",
   "execution_count": 8,
   "metadata": {
    "collapsed": false
   },
   "outputs": [
    {
     "data": {
      "text/plain": [
       "[[50.000] {Usual Suspects, The (1995), Crime|Mystery|Thriller}\n",
       "]"
      ]
     },
     "execution_count": 8,
     "metadata": {},
     "output_type": "execute_result"
    }
   ],
   "source": [
    "filtmovieid = SameValue(movies.domain[\"movieId\"], ratings[4][1])\n",
    "moviesub=filtmovieid(movies)\n",
    "moviesub"
   ]
  },
  {
   "cell_type": "code",
   "execution_count": 9,
   "metadata": {
    "collapsed": false
   },
   "outputs": [],
   "source": [
    "from Orange.data import *"
   ]
  },
  {
   "cell_type": "code",
   "execution_count": 10,
   "metadata": {
    "collapsed": false
   },
   "outputs": [],
   "source": [
    "filmime = ContinuousVariable(\"movieName\")\n",
    "\n",
    "filmid = ContinuousVariable(\"movieID\")\n",
    "filmrating=ContinuousVariable(\"movieRating\")\n",
    "domainmov = Domain([filmid, filmime, filmrating])\n"
   ]
  },
  {
   "cell_type": "code",
   "execution_count": 11,
   "metadata": {
    "collapsed": false
   },
   "outputs": [
    {
     "data": {
      "text/plain": [
       "3.5168503593161127"
      ]
     },
     "execution_count": 11,
     "metadata": {},
     "output_type": "execute_result"
    }
   ],
   "source": [
    "mean(ratings.X[:,2])"
   ]
  },
  {
   "cell_type": "code",
   "execution_count": 12,
   "metadata": {
    "collapsed": false
   },
   "outputs": [
    {
     "data": {
      "text/plain": [
       "4.0"
      ]
     },
     "execution_count": 12,
     "metadata": {},
     "output_type": "execute_result"
    }
   ],
   "source": [
    "ratings.X[0,2]"
   ]
  },
  {
   "cell_type": "code",
   "execution_count": 12,
   "metadata": {
    "collapsed": false
   },
   "outputs": [],
   "source": []
  },
  {
   "cell_type": "code",
   "execution_count": 31,
   "metadata": {
    "collapsed": false
   },
   "outputs": [
    {
     "data": {
      "text/plain": [
       "1.25"
      ]
     },
     "execution_count": 31,
     "metadata": {},
     "output_type": "execute_result"
    }
   ],
   "source": [
    "\n",
    "mean(ratings[:,2].X[ratings.X[:,1]==57949]) #avg rating za kr en film"
   ]
  },
  {
   "cell_type": "code",
   "execution_count": 32,
   "metadata": {
    "collapsed": false
   },
   "outputs": [],
   "source": [
    "import collections\n",
    "muviz = collections.OrderedDict()\n",
    "for row in movies:\n",
    "    muviz[int(row[0].value)]=mean(ratings[:,2].X[ratings[:,1].X==row[0]])\n",
    "#print(muviz)"
   ]
  },
  {
   "cell_type": "markdown",
   "metadata": {},
   "source": [
    "Naredimo slovar vseh filmov in njihovih povprečnih ocen. Ta slovar nato uporabimo za izdelavo grafa"
   ]
  },
  {
   "cell_type": "code",
   "execution_count": 15,
   "metadata": {
    "collapsed": false
   },
   "outputs": [
    {
     "name": "stdout",
     "output_type": "stream",
     "text": [
      "Jumanji (1995)\n",
      "Grumpier Old Men (1995)\n",
      "Waiting to Exhale (1995)\n",
      "Father of the Bride Part II (1995)\n",
      "Heat (1995)\n",
      "Sabrina (1995)\n",
      "Tom and Huck (1995)\n",
      "Sudden Death (1995)\n"
     ]
    }
   ],
   "source": [
    "for i in range(1,9):\n",
    "    print(movies[i,\"title\"])\n",
    "#izpis naslovov posameznih filmov"
   ]
  },
  {
   "cell_type": "code",
   "execution_count": 16,
   "metadata": {
    "collapsed": false
   },
   "outputs": [
    {
     "name": "stdout",
     "output_type": "stream",
     "text": [
      "Air (2015): 5.0\n",
      "Everything's Gonna Be Great (1998): 5.0\n",
      "The Revenant (2015): 5.0\n",
      "Feast (2014): 5.0\n",
      "George Carlin: Back in Town (1996): 5.0\n",
      "Ghost in the Shell: Stand Alone Complex - The Laughing Man (2005): 5.0\n",
      "The Liberator (2013): 5.0\n",
      "George Carlin: Life Is Worth Losing (2005): 5.0\n",
      "George Carlin: It's Bad for Ya! (2008): 5.0\n",
      "Ricky Gervais: Out of England - The Stand-Up Special (2008): 5.0\n"
     ]
    }
   ],
   "source": [
    "sortmov=list(reversed(sorted(muviz.items(), key=lambda x:x[1])))\n",
    "for i in range(0,10):\n",
    "    for row in movies:\n",
    "        if row[0]==sortmov[i][0]:\n",
    "            print(str(row[\"title\"])+\": \"+str(sortmov[i][1]))\n",
    "    "
   ]
  },
  {
   "cell_type": "raw",
   "metadata": {},
   "source": [
    "Top 10 rated filmov. Problem je da so to filmi ki imajo po le en rating. Rešimo lahko tako da upoštevamo le filme ki imajo npr več kot 4 ratingov. Teh filmov je seveda tudi veliko. Namreč če uporabimo ordered dictionary dobimo drugačne rezultate kot pri neordered dicitonaryju."
   ]
  },
  {
   "cell_type": "code",
   "execution_count": 17,
   "metadata": {
    "collapsed": false
   },
   "outputs": [
    {
     "name": "stdout",
     "output_type": "stream",
     "text": [
      "3.0\n"
     ]
    }
   ],
   "source": [
    "print(muviz[5173])"
   ]
  },
  {
   "cell_type": "code",
   "execution_count": 18,
   "metadata": {
    "collapsed": false
   },
   "outputs": [
    {
     "name": "stdout",
     "output_type": "stream",
     "text": [
      "Jumanji (1995)\n"
     ]
    }
   ],
   "source": [
    "for row in movies:\n",
    "    if row[0]==2:\n",
    "        print(row[\"title\"])"
   ]
  },
  {
   "cell_type": "code",
   "execution_count": 19,
   "metadata": {
    "collapsed": false
   },
   "outputs": [
    {
     "name": "stdout",
     "output_type": "stream",
     "text": [
      "Adventure & 1164\\\n",
      "Animation & 401\\\n",
      "Children & 540\\\n",
      "Comedy & 3515\\\n",
      "Fantasy & 670\\\n",
      "Romance & 1788\\\n",
      "Drama & 5220\\\n",
      "Action & 1737\\\n",
      "Crime & 1440\\\n",
      "Thriller & 2187\\\n",
      "Horror & 1001\\\n",
      "Mystery & 675\\\n",
      "Sci-Fi & 860\\\n",
      "IMAX & 152\\\n",
      "War & 503\\\n",
      "Musical & 409\\\n",
      "Documentary & 415\\\n",
      "Western & 235\\\n",
      "Film-Noir & 195\\\n",
      "(no genres listed) & 7\\\n"
     ]
    }
   ],
   "source": [
    "genres = collections.OrderedDict()\n",
    "for row in movies:\n",
    "    allgenre=str(row[\"genres\"]).split(\"|\")\n",
    "    for el in allgenre:\n",
    "        if el in genres:\n",
    "            genres[el]+=1\n",
    "        else:\n",
    "            genres[el]=1\n",
    "for i,j in genres.items():\n",
    "    print(str(i)+\" & \"+str(j)+\"\\\\\")"
   ]
  },
  {
   "cell_type": "markdown",
   "metadata": {},
   "source": [
    "naredimo slovar vseh žanrov in število njihovih pojavitev. Nato ga sortiramo in naredimo graf"
   ]
  },
  {
   "cell_type": "code",
   "execution_count": 33,
   "metadata": {
    "collapsed": false
   },
   "outputs": [
    {
     "name": "stdout",
     "output_type": "stream",
     "text": [
      "ValuesView(OrderedDict([('Adventure', 1164), ('Animation', 401), ('Children', 540), ('Comedy', 3515), ('Fantasy', 670), ('Romance', 1788), ('Drama', 5220), ('Action', 1737), ('Crime', 1440), ('Thriller', 2187), ('Horror', 1001), ('Mystery', 675), ('Sci-Fi', 860), ('IMAX', 152), ('War', 503), ('Musical', 409), ('Documentary', 415), ('Western', 235), ('Film-Noir', 195), ('(no genres listed)', 7)]))\n"
     ]
    },
    {
     "data": {
      "text/plain": [
       "[<matplotlib.text.Text at 0x5e76310>,\n",
       " <matplotlib.text.Text at 0x5e69490>,\n",
       " <matplotlib.text.Text at 0x9915830>,\n",
       " <matplotlib.text.Text at 0x9915df0>,\n",
       " <matplotlib.text.Text at 0x99183d0>,\n",
       " <matplotlib.text.Text at 0x9918990>,\n",
       " <matplotlib.text.Text at 0x9918f50>,\n",
       " <matplotlib.text.Text at 0x991d530>,\n",
       " <matplotlib.text.Text at 0x991daf0>,\n",
       " <matplotlib.text.Text at 0x99220d0>,\n",
       " <matplotlib.text.Text at 0x9922690>,\n",
       " <matplotlib.text.Text at 0x9922c50>,\n",
       " <matplotlib.text.Text at 0x9925230>,\n",
       " <matplotlib.text.Text at 0x99257f0>,\n",
       " <matplotlib.text.Text at 0x9925db0>,\n",
       " <matplotlib.text.Text at 0x9929390>,\n",
       " <matplotlib.text.Text at 0x67a8870>,\n",
       " <matplotlib.text.Text at 0x5e67650>,\n",
       " <matplotlib.text.Text at 0x5e6b530>,\n",
       " <matplotlib.text.Text at 0x9929570>]"
      ]
     },
     "execution_count": 33,
     "metadata": {},
     "output_type": "execute_result"
    },
    {
     "data": {
      "image/png": "[encoded data removed]",
      "text/plain": [
       "<matplotlib.figure.Figure at 0x6a69f50>"
      ]
     },
     "metadata": {},
     "output_type": "display_data"
    }
   ],
   "source": [
    "\n",
    "\n",
    "tocke=genres.values()\n",
    "genrenames=list(genres.keys())\n",
    "print(tocke)\n",
    "\n",
    "x=range(len(tocke))\n",
    "plt.figure(figsize=(20, 6))\n",
    "plt.bar(x, tocke, color=\"cyan\", align=\"center\")\n",
    "#plt.bar(x, m, bottom=m, color=\"magenta\", align=\"center\")\n",
    "plt.xlim(-0.5, len(genrenames)-0.5)\n",
    "plt.xticks(x)\n",
    "\n",
    "plt.gca().set_xticklabels(genrenames, rotation=90)\n"
   ]
  },
  {
   "cell_type": "markdown",
   "metadata": {},
   "source": [
    "Graf števila filmov v posameznem žanru. Vseh žanrov je 20 (no 19 dejansko)."
   ]
  },
  {
   "cell_type": "code",
   "execution_count": 34,
   "metadata": {
    "collapsed": false
   },
   "outputs": [],
   "source": [
    "muvizviews=collections.OrderedDict()\n",
    "moviearrindex=[]\n",
    "for row in movies:\n",
    "    movieId=int(row[0])\n",
    "    moviearrindex.append(movieId)#zberemo vse idje filmov na kup\n",
    "for i in moviearrindex:\n",
    "    muvizviews[i]=0\n",
    "for row in ratings:\n",
    "    muvizviews[int(row[1].value)]+=1\n",
    "#print(muvizviews)"
   ]
  },
  {
   "cell_type": "markdown",
   "metadata": {},
   "source": [
    "Ustvaril sem slovar filmov po ogledih, ključi so ID-ji filmov, vrednosti pa število ogledov. "
   ]
  },
  {
   "cell_type": "code",
   "execution_count": 35,
   "metadata": {
    "collapsed": false
   },
   "outputs": [
    {
     "data": {
      "image/png": "[encoded data removed]",
      "text/plain": [
       "<matplotlib.figure.Figure at 0x6a80dd0>"
      ]
     },
     "metadata": {},
     "output_type": "display_data"
    }
   ],
   "source": [
    "plt.figure(figsize=(20, 6))\n",
    "ogledi=list(muvizviews.values())\n",
    "ocene=list(muviz.values())\n",
    "\n",
    "plt.plot(ogledi, ocene, \"k.\")\n",
    "plt.xlabel(\"Ogledi\")\n",
    "plt.ylabel(\"Ocene\")\n",
    "plt.show()"
   ]
  },
  {
   "cell_type": "markdown",
   "metadata": {},
   "source": [
    "Vidimo da filmi z malo ogledov imajo več ali manj le 1 ali 2 oceni, zato je porazdelitev na začetku tako očitna. filmi s 25 ali več ogledov pa imajo lepše porazdeljene ocene. Implementiral sem tudi Pearsonovo oceno korelacije. "
   ]
  },
  {
   "cell_type": "code",
   "execution_count": 36,
   "metadata": {
    "collapsed": false
   },
   "outputs": [],
   "source": [
    "vsota=0\n",
    "for i in ocene:\n",
    "    if not isnan(i):\n",
    "        vsota+=i#float(\"{0:.3f}\".format(i))\n",
    "\n",
    "meanocena=vsota/len(ocene)\n",
    "meanogledi=sum(ogledi)/len(ogledi)\n"
   ]
  },
  {
   "cell_type": "markdown",
   "metadata": {},
   "source": [
    "izračun povprečnih vrednosti v seznamih. moral sem preveriti če ocena ni not a number, ker so določeni filmi bili brez ocene."
   ]
  },
  {
   "cell_type": "code",
   "execution_count": 37,
   "metadata": {
    "collapsed": false
   },
   "outputs": [
    {
     "name": "stdout",
     "output_type": "stream",
     "text": [
      "0.66800122902\n"
     ]
    }
   ],
   "source": [
    "def stddev(x,meanx):\n",
    "    sum=0\n",
    "    for i in x:\n",
    "        if not isnan(i):\n",
    "            sum+=pow(i-meanx,2)\n",
    "    return sum/len(x)\n",
    "stdocena=stddev(ocene,meanocena)\n",
    "stdogledi=stddev(ogledi,meanogledi)\n",
    "print(stdocena)"
   ]
  },
  {
   "cell_type": "code",
   "execution_count": 38,
   "metadata": {
    "collapsed": false
   },
   "outputs": [
    {
     "name": "stdout",
     "output_type": "stream",
     "text": [
      "0.000144190679249\n"
     ]
    }
   ],
   "source": [
    "def pearson(x,y,meanx,meany,stdx,stdy):\n",
    "    sum1=0\n",
    "    sum2=0\n",
    "    actuallen=0\n",
    "    for i in range(len(x)):\n",
    "        if not isnan(x[i]) and not isnan(y[i]):\n",
    "            actuallen+=1\n",
    "            sum1+=(x[i]-meanx)/stdx\n",
    "            sum2+=(y[i]-meany)/stdy\n",
    "    pery=(1/actuallen)*sum1*sum2\n",
    "    return pery\n",
    "print(pearson(ocene,ogledi,meanocena,meanogledi,stdocena,stdogledi))\n",
    "#print(sum1/(stdocena*stdogledi))"
   ]
  },
  {
   "cell_type": "markdown",
   "metadata": {},
   "source": [
    "Zgoraj sem definiral pearsonovo funkcijo za izračun korelacije med 2 seznamoma, istoležni elementi so iz istega filma, tako da je bilo možno to računati. sicer je potrebno predhodno izračunati standardni odklon in povprečje zaradi neznanih NaN elementov v seznamu. Oceni sta skoraj neodvisni, ker filmi z malo ogledi so nekako hit or miss, ljudem ki so bili všeč so jim dali 5, drugi pa so jim 1, zato odvisnost obstaja, vendar ni občutna (več ogledov ne garantira višje ocene)."
   ]
  },
  {
   "cell_type": "code",
   "execution_count": 39,
   "metadata": {
    "collapsed": false
   },
   "outputs": [],
   "source": [
    "igrauci = collections.OrderedDict()\n",
    "for row in cast:\n",
    "    izpisiigraucu=row[\"cast\"].value.split(\"|\")\n",
    "    for el in izpisiigraucu:\n",
    "        if el is not \"\":\n",
    "            if el in igrauci:\n",
    "                igrauci[el]+=1\n",
    "            else:\n",
    "                igrauci[el]=1\n",
    "mostmovactors=list(reversed(sorted(igrauci.items(), key=lambda x:x[1])))\n",
    "#print(mostmovactors)   "
   ]
  },
  {
   "cell_type": "markdown",
   "metadata": {},
   "source": [
    "Naredil sem slovar vseh igralcev in število filmov v katerih so igrali. Izpis 10 najbolj popularnih"
   ]
  },
  {
   "cell_type": "code",
   "execution_count": 40,
   "metadata": {
    "collapsed": false
   },
   "outputs": [
    {
     "name": "stdout",
     "output_type": "stream",
     "text": [
      "('Robert De Niro', 75)\n",
      "('Michael Caine', 65)\n",
      "('Christopher Walken', 61)\n",
      "('Bruce Willis', 60)\n",
      "('Morgan Freeman', 56)\n",
      "('Steve Buscemi', 54)\n",
      "('Nicolas Cage', 53)\n",
      "('Gene Hackman', 51)\n",
      "('Donald Sutherland', 50)\n",
      "('Susan Sarandon', 50)\n"
     ]
    }
   ],
   "source": [
    "for i in range(0,10):\n",
    "    print(mostmovactors[i])"
   ]
  },
  {
   "cell_type": "markdown",
   "metadata": {},
   "source": [
    "Problem: De Niro je npr ful star...število filmov pa sploh ne pokaže dejansko koliko je igralec popularen. "
   ]
  },
  {
   "cell_type": "code",
   "execution_count": 41,
   "metadata": {
    "collapsed": false
   },
   "outputs": [
    {
     "name": "stdout",
     "output_type": "stream",
     "text": [
      "Robert De Niro: 75\n",
      "Michael Caine: 65\n",
      "Christopher Walken: 61\n",
      "Bruce Willis: 60\n",
      "Morgan Freeman: 56\n",
      "Steve Buscemi: 54\n",
      "Nicolas Cage: 53\n",
      "Gene Hackman: 51\n",
      "Donald Sutherland: 50\n",
      "Susan Sarandon: 50\n"
     ]
    },
    {
     "data": {
      "text/plain": [
       "[<matplotlib.text.Text at 0x48cdf10>,\n",
       " <matplotlib.text.Text at 0x6a62970>,\n",
       " <matplotlib.text.Text at 0x48d0c30>,\n",
       " <matplotlib.text.Text at 0x48bb430>,\n",
       " <matplotlib.text.Text at 0x48bb410>,\n",
       " <matplotlib.text.Text at 0x48bfc90>,\n",
       " <matplotlib.text.Text at 0x9922a70>,\n",
       " <matplotlib.text.Text at 0x48a8790>,\n",
       " <matplotlib.text.Text at 0x48a8f70>,\n",
       " <matplotlib.text.Text at 0x48a8810>]"
      ]
     },
     "execution_count": 41,
     "metadata": {},
     "output_type": "execute_result"
    },
    {
     "data": {
      "image/png": "[encoded data removed]",
      "text/plain": [
       "<matplotlib.figure.Figure at 0x6a73130>"
      ]
     },
     "metadata": {},
     "output_type": "display_data"
    }
   ],
   "source": [
    "akterji=mostmovactors[:10]\n",
    "acc=[]\n",
    "movnum=[]\n",
    "for i in akterji:\n",
    "    print(i[0]+\": \"+str(i[1]))\n",
    "    acc.append(i[0])\n",
    "    movnum.append(i[1])\n",
    "\n",
    "\n",
    "x=range(10)\n",
    "plt.figure(figsize=(10, 6))\n",
    "plt.bar(x, movnum, color=\"blue\", align=\"center\")\n",
    "#plt.bar(x, m, bottom=m, color=\"magenta\", align=\"center\")\n",
    "plt.xlim(-0.5, len(acc)-0.5)\n",
    "plt.xticks(x)\n",
    "plt.ylabel(\"Število filmov\")\n",
    "plt.gca().set_xticklabels(acc, rotation=90)"
   ]
  },
  {
   "cell_type": "code",
   "execution_count": 42,
   "metadata": {
    "collapsed": false
   },
   "outputs": [],
   "source": [
    "acmovviews=collections.OrderedDict()\n",
    "movandacc=collections.OrderedDict()\n",
    "for row in cast:\n",
    "    movandacc[row[0].value]=row[\"cast\"].value.split(\"|\")\n",
    "    \n",
    "#print(movandacc)\n",
    "for i,j in movandacc.items():\n",
    "    for el in j:\n",
    "        if el is not \"\":\n",
    "            if el in acmovviews:\n",
    "                acmovviews[el]+=muvizviews[i]\n",
    "            else:\n",
    "                acmovviews[el]=muvizviews[i]\n",
    "#print(acmovviews)\n",
    "mostviewactors=list(reversed(sorted(acmovviews.items(), key=lambda x:x[1])))\n",
    "#print(mostviewactors)       \n",
    "    "
   ]
  },
  {
   "cell_type": "markdown",
   "metadata": {},
   "source": [
    "Najprej sem naredil slovar katerega ključ je ID filma, vrednost pa seznam vseh njegovih igralcev. Nato sem iteriral čez ta slovar. In iteriral čez njegovo vrednost(seznam). Za vsak element sem preveril če je v slovarju igralcev in ogledov vseh njihovih filmov. Če je bil sem iz slovarja filmov in ogledov prištel število ogledov filma v katerem se nahaja(ključ), če ga ni bilo sem ga pa ustvaril z začetno vrednostjo, ki je enaka ogledom trenutnega filma."
   ]
  },
  {
   "cell_type": "code",
   "execution_count": 43,
   "metadata": {
    "collapsed": false
   },
   "outputs": [
    {
     "name": "stdout",
     "output_type": "stream",
     "text": [
      "Harrison Ford ima 2363 ogledov\n",
      "Tom Hanks ima 2122 ogledov\n",
      "Bruce Willis ima 2044 ogledov\n",
      "Robert De Niro ima 1709 ogledov\n",
      "Morgan Freeman ima 1645 ogledov\n",
      "Tom Cruise ima 1553 ogledov\n",
      "Brad Pitt ima 1502 ogledov\n",
      "Bill Paxton ima 1339 ogledov\n",
      "Arnold Schwarzenegger ima 1335 ogledov\n",
      "Jim Carrey ima 1333 ogledov\n"
     ]
    },
    {
     "data": {
      "text/plain": [
       "[<matplotlib.text.Text at 0x67dcbb0>,\n",
       " <matplotlib.text.Text at 0x6a83bf0>,\n",
       " <matplotlib.text.Text at 0x9110c70>,\n",
       " <matplotlib.text.Text at 0x9114250>,\n",
       " <matplotlib.text.Text at 0x9114810>,\n",
       " <matplotlib.text.Text at 0x9114dd0>,\n",
       " <matplotlib.text.Text at 0x91623b0>,\n",
       " <matplotlib.text.Text at 0x9162970>,\n",
       " <matplotlib.text.Text at 0x9162f30>,\n",
       " <matplotlib.text.Text at 0x9175510>]"
      ]
     },
     "execution_count": 43,
     "metadata": {},
     "output_type": "execute_result"
    },
    {
     "data": {
      "image/png": "[encoded data removed]",
      "text/plain": [
       "<matplotlib.figure.Figure at 0x6a69650>"
      ]
     },
     "metadata": {},
     "output_type": "display_data"
    }
   ],
   "source": [
    "akterjivjus=mostviewactors[:10]\n",
    "acc2=[]#igrauci\n",
    "movvju=[]#ogledi filmov\n",
    "for i in akterjivjus:\n",
    "    print(i[0]+\" ima \"+str(i[1])+\" ogledov\")\n",
    "    acc2.append(i[0])\n",
    "    movvju.append(i[1])\n",
    "\n",
    "\n",
    "x=range(10)\n",
    "plt.figure(figsize=(10, 6))\n",
    "plt.bar(x, movvju, color=\"red\", align=\"center\")\n",
    "#plt.bar(x, m, bottom=m, color=\"magenta\", align=\"center\")\n",
    "plt.xlim(-0.5, len(acc2)-0.5)\n",
    "plt.xticks(x)\n",
    "plt.ylabel(\"Število vseh ogledov filmov\")\n",
    "plt.gca().set_xticklabels(acc2, rotation=90)"
   ]
  },
  {
   "cell_type": "markdown",
   "metadata": {},
   "source": [
    "To je boljša mera za oceno popularnosti igralca. Če je igralec dober, si je njegov film ogledalo veliko ljudi. Vendar tudi to ni nujno popolna metoda. Pogledal bom še povprečno oceno igralčevih filmov (z številom ocen nad 20)."
   ]
  },
  {
   "cell_type": "markdown",
   "metadata": {},
   "source": [
    "Sedaj, ko sem vse naredil, sem šel popravit oceno najboljših filmov. Utežil sem jo z številom ogledov. 472.6 je konstanta s katero sem obtežil oglede, da sem jo spravil na domeno [0,5]. Tako je Harrison Ford npr dobil najboljšo oceno ker imajo njegovi filmi največ ogledov. Mogoče ni najboljša utežitev, vendar nekaj pa le pove! Zamislil sem si da število vseh ogledov filmov prinese pol ocene, pol pa prinese povprečna ocena njegovih filmov. "
   ]
  },
  {
   "cell_type": "code",
   "execution_count": 45,
   "metadata": {
    "collapsed": false
   },
   "outputs": [
    {
     "name": "stdout",
     "output_type": "stream",
     "text": [
      "5.67573814309\n"
     ]
    }
   ],
   "source": [
    "utezeniactors=collections.OrderedDict()\n",
    "for i,j in mostviewactors:#slovar ogledov filmov igralca obtežen da dobimo številko do 5\n",
    "    utezeniactors[i]=j/472.6\n",
    "#print(utezeniactors)\n",
    "finalbestactors=collections.OrderedDict()\n",
    "muvisnaktors=collections.OrderedDict()\n",
    "for i,j in movandacc.items():\n",
    "    #print(muviz[i])\n",
    "    for el in j:\n",
    "        if el not in muvisnaktors:\n",
    "            muvisnaktors[el]=muviz[i]\n",
    "        else:\n",
    "            muvisnaktors[el]+=muviz[i]#v slovar dodamo ocene vseh filmov v katerih je igral\n",
    "for i,j in muvisnaktors.items():\n",
    "    if not isnan(j):\n",
    "        muvisnaktors[i]=j/igrauci[i]#oceno obtežimo z številom filmov v katerih je igral\n",
    "        \n",
    "for i,j in muvisnaktors.items(): #vse nan popravimo na 0\n",
    "    if isnan(j):\n",
    "        muvisnaktors[i]=0\n",
    "for i,j in utezeniactors.items():\n",
    "    if isnan(j):\n",
    "        utezeniactors[i]=0\n",
    "        \n",
    "for i,j in muvisnaktors.items():\n",
    "    if i is not \"\":\n",
    "        finalbestactors[i]=j+utezeniactors[i]#ocenam prištejemo obtežene oglede\n",
    "print(finalbestactors[\"Leonardo DiCaprio\"])#test\n",
    "\n",
    "            "
   ]
  },
  {
   "cell_type": "markdown",
   "metadata": {},
   "source": [
    "Sedaj sem imel sestavljen slovar \"ocen\" igralcev v katerem pol ocene prispevajo njegove povprečne ocene filmov, pol pa ogledi vseh filmov obteženi na domeno 1 do 5"
   ]
  },
  {
   "cell_type": "code",
   "execution_count": 46,
   "metadata": {
    "collapsed": false
   },
   "outputs": [
    {
     "name": "stdout",
     "output_type": "stream",
     "text": [
      "Harrison Ford: 8.35898965444\n",
      "Tom Hanks: 8.01196960077\n",
      "Bruce Willis: 7.62022441453\n",
      "Robert De Niro: 6.91984541041\n",
      "Morgan Freeman: 6.79663533395\n",
      "Tom Cruise: 6.68596216584\n",
      "Brad Pitt: 6.68094803833\n",
      "Kevin Spacey: 6.22270734913\n",
      "Bill Murray: 6.20758584771\n",
      "Bill Paxton: 6.1274768189\n"
     ]
    },
    {
     "data": {
      "text/plain": [
       "[<matplotlib.text.Text at 0x9114970>,\n",
       " <matplotlib.text.Text at 0xb8a80f0>,\n",
       " <matplotlib.text.Text at 0xb854970>,\n",
       " <matplotlib.text.Text at 0xb854f30>,\n",
       " <matplotlib.text.Text at 0xb886510>,\n",
       " <matplotlib.text.Text at 0xb886ad0>,\n",
       " <matplotlib.text.Text at 0xb8820b0>,\n",
       " <matplotlib.text.Text at 0xb882670>,\n",
       " <matplotlib.text.Text at 0xb882c30>,\n",
       " <matplotlib.text.Text at 0xb85a210>]"
      ]
     },
     "execution_count": 46,
     "metadata": {},
     "output_type": "execute_result"
    },
    {
     "data": {
      "image/png": "[encoded data removed]",
      "text/plain": [
       "<matplotlib.figure.Figure at 0x6a86430>"
      ]
     },
     "metadata": {},
     "output_type": "display_data"
    }
   ],
   "source": [
    "absolutebestactors=list(reversed(sorted(finalbestactors.items(), key=lambda x:x[1])))[:10]\n",
    "bestactornames=[]\n",
    "bestactorocene=[]\n",
    "for i,j in absolutebestactors:\n",
    "    bestactornames.append(i)\n",
    "    bestactorocene.append(j)\n",
    "    print(str(i)+\": \"+str(j))\n",
    "plt.figure(figsize=(10, 6))\n",
    "plt.bar(x, bestactorocene, color=\"green\", align=\"center\")\n",
    "#plt.bar(x, m, bottom=m, color=\"magenta\", align=\"center\")\n",
    "plt.xlim(-0.5, len(bestactornames)-0.5)\n",
    "plt.xticks(x)\n",
    "plt.ylabel(\"Končna ocena(kombinacija ogledov in povprečnih ocen)\")\n",
    "plt.gca().set_xticklabels(bestactornames, rotation=90)"
   ]
  },
  {
   "cell_type": "code",
   "execution_count": 47,
   "metadata": {
    "collapsed": false
   },
   "outputs": [
    {
     "name": "stdout",
     "output_type": "stream",
     "text": [
      "Nausicaä of the Valley of the Wind (Kaze no tani no Naushika) (1984) rating: 4.47727272727\n",
      "Touch of Evil (1958) rating: 4.47619047619\n",
      "Cinema Paradiso (Nuovo cinema Paradiso) (1989) rating: 4.45945945946\n",
      "Shawshank Redemption, The (1994) rating: 4.45454545455\n",
      "Dr. Horrible's Sing-Along Blog (2008) rating: 4.4347826087\n",
      "Ran (1985) rating: 4.40322580645\n",
      "Citizen Kane (1941) rating: 4.3961038961\n",
      "Godfather, The (1972) rating: 4.39285714286\n",
      "Intouchables (2011) rating: 4.39130434783\n",
      "Princess Mononoke (Mononoke-hime) (1997) rating: 4.38461538462\n"
     ]
    }
   ],
   "source": [
    "muvizover20views=collections.OrderedDict()#slovar filmov z več kot 20 ogledi\n",
    "for i,j in muvizviews.items():\n",
    "    if j>20:\n",
    "        muvizover20views[i]=j\n",
    "#print(muvizover20views)\n",
    "muvigrejdsupd=collections.OrderedDict()\n",
    "for i in muvizover20views:\n",
    "    muvigrejdsupd[i]=muviz[i]\n",
    "#print(muvigrejdsupd)\n",
    "bestmuvis=list(reversed(sorted(muvigrejdsupd.items(), key=lambda x:x[1])))[:10]\n",
    "#print(bestmuvis)\n",
    "bstmovtup=[]\n",
    "for i,j in bestmuvis:\n",
    "    for row in movies:\n",
    "        if row[0]==i:\n",
    "            bstmovtup.append((i,row[\"title\"].value))\n",
    "for i,j in bstmovtup:\n",
    "    print(str(j)+\" rating: \"+str(muviz[i]))\n",
    "    \n",
    "    #print(movies[:,\"title\"].X[movies[:,\"movieId\"]==i])\n",
    "    "
   ]
  },
  {
   "cell_type": "markdown",
   "metadata": {},
   "source": [
    "Sedaj sem se spravil še delati zadnji del naloge in to so ocene filmov skozi čas. Za to sem si izbral 2 starejša filma, da se lahko bolje spremlja in sicer: Shawshank Redemption(id=318) in Schindler's List(id=527)"
   ]
  },
  {
   "cell_type": "code",
   "execution_count": 48,
   "metadata": {
    "collapsed": false
   },
   "outputs": [
    {
     "name": "stdout",
     "output_type": "stream",
     "text": [
      "Povprečje zadnjih 50 ocen za\n",
      "Shawshank Redemmption: 4.34\n",
      "Schindler's List: 4.46\n"
     ]
    }
   ],
   "source": [
    "from operator import itemgetter\n",
    "shawshank=[]\n",
    "schindler=[]\n",
    "for row in ratings:\n",
    "    if row[1]==318:\n",
    "        shawshank.append(row)\n",
    "for row in ratings:\n",
    "    if row[1]==527:\n",
    "        schindler.append(row)\n",
    "\n",
    "ageshawshank=list(sorted(shawshank, key=itemgetter(3)))\n",
    "\n",
    "ageschindler=list(sorted(schindler, key=itemgetter(3)))\n",
    "shaw50=0\n",
    "sch50=0\n",
    "for i in range(0,50):\n",
    "    shaw50+=ageshawshank[i][2]\n",
    "    sch50+=ageschindler[i][2]\n",
    "shaw50/=50\n",
    "sch50/=50\n",
    "print(\"Povprečje zadnjih 50 ocen za\\nShawshank Redemmption: \"+str(shaw50)+\"\\nSchindler's List: \"+str(sch50))"
   ]
  },
  {
   "cell_type": "code",
   "execution_count": 49,
   "metadata": {
    "collapsed": false
   },
   "outputs": [
    {
     "name": "stdout",
     "output_type": "stream",
     "text": [
      "Povprečje zadnjih 100 ocen za\n",
      "Shawshank Redemmption: 4.41\n",
      "Schindler's List: 4.5\n",
      "\n",
      "Povprečje zadnjih 200 ocen za\n",
      "Shawshank Redemmption: 4.43\n",
      "Schindler's List: 4.42\n",
      "\n",
      "Povprečje prvih 100 ocen za\n",
      "Shawshank Redemmption: 4.485\n",
      "Schindler's List: 4.08\n"
     ]
    }
   ],
   "source": [
    "shaw100=0\n",
    "sch100=0\n",
    "for i in range(0,100):\n",
    "    shaw100+=ageshawshank[i][2]\n",
    "    sch100+=ageschindler[i][2]\n",
    "shaw100/=100\n",
    "sch100/=100\n",
    "print(\"Povprečje zadnjih 100 ocen za\\nShawshank Redemmption: \"+str(shaw100)+\"\\nSchindler's List: \"+str(sch100))\n",
    "\n",
    "shaw200=0\n",
    "sch200=0\n",
    "for i in range(0,200):\n",
    "    shaw200+=ageshawshank[i][2]\n",
    "    sch200+=ageschindler[i][2]\n",
    "shaw200/=200\n",
    "sch200/=200\n",
    "print(\"\\nPovprečje zadnjih 200 ocen za\\nShawshank Redemmption: \"+str(shaw200)+\"\\nSchindler's List: \"+str(sch200))\n",
    "\n",
    "#zase sem naredil še povprečje prvih 100 ocen\n",
    "shawfirst=0\n",
    "schfirst=0\n",
    "for i in range(1,101):\n",
    "    shawfirst+=ageshawshank[len(ageshawshank)-i][2]\n",
    "    schfirst+=ageschindler[len(ageschindler)-i][2]\n",
    "shawfirst/=100\n",
    "schfirst/=100\n",
    "print(\"\\nPovprečje prvih 100 ocen za\\nShawshank Redemmption: \"+str(shawfirst)+\"\\nSchindler's List: \"+str(schfirst))"
   ]
  },
  {
   "cell_type": "markdown",
   "metadata": {},
   "source": [
    "Sledi še risanje grafa spreminjanja ocene obeh filmov. "
   ]
  },
  {
   "cell_type": "code",
   "execution_count": 50,
   "metadata": {
    "collapsed": false
   },
   "outputs": [],
   "source": [
    "shawsmth=[]\n",
    "shawy=[]\n",
    "shawdates=[]\n",
    "shawgraph=[]\n",
    "shawdatesfloat=[]\n",
    "counter=0\n",
    "for i in ageshawshank:\n",
    "    shawdatesfloat.append(i[3].value)\n",
    "    shawdates.append(changetime(i[3].value))\n",
    "    shawsmth.append(i[2].value)#array vseh ocen\n",
    "#print(shawdates)\n",
    "vsota=0\n",
    "for i in range(len(shawsmth)):\n",
    "    for j in range(0,i+1):\n",
    "        vsota+=shawsmth[j]\n",
    "    shawgraph.append(vsota/(i+1))#array spreminjanja povprečja ocene\n",
    "    vsota=0\n",
    "#print(shawdatesfloat)\n",
    "   "
   ]
  },
  {
   "cell_type": "markdown",
   "metadata": {},
   "source": [
    "Nato sem isti proces izvedel še za Schindler's list."
   ]
  },
  {
   "cell_type": "code",
   "execution_count": 51,
   "metadata": {
    "collapsed": false
   },
   "outputs": [
    {
     "name": "stdout",
     "output_type": "stream",
     "text": [
      "[833532164.0, 833958728.0, 834661611.0, 834707604.0, 835116533.0, 835161959.0, 835490687.0, 835506089.0, 835879413.0, 836378855.0, 836675590.0, 836818401.0, 836972708.0, 837259572.0, 837693920.0, 839438705.0, 839947340.0, 840555617.0, 840581674.0, 841216186.0, 841221948.0, 841274774.0, 841483658.0, 841935799.0, 842517958.0, 842686415.0, 842888390.0, 844074653.0, 844184088.0, 845107372.0, 845305901.0, 845321987.0, 845388748.0, 846184278.0, 847183373.0, 847403062.0, 847809004.0, 847822703.0, 847916829.0, 847928160.0, 848665719.0, 851580200.0, 854002070.0, 857735425.0, 865534033.0, 866303379.0, 868263659.0, 875311657.0, 879097966.0, 879858038.0, 884099757.0, 885580629.0, 891655130.0, 901154942.0, 901932033.0, 903035316.0, 903225002.0, 904745372.0, 913755201.0, 915219793.0, 916849914.0, 918636672.0, 938814975.0, 938941812.0, 939631713.0, 939803005.0, 941215955.0, 942185990.0, 943353995.0, 944923742.0, 944925681.0, 945151758.0, 946192685.0, 948000228.0, 948940966.0, 949281906.0, 950322655.0, 953422442.0, 953677295.0, 954088761.0, 954566737.0, 955125104.0, 955414369.0, 956591481.0, 956685263.0, 956691873.0, 957671762.0, 957928482.0, 958688141.0, 959816640.0, 961685349.0, 962606154.0, 962763347.0, 963469767.0, 965328655.0, 965515232.0, 965682471.0, 965788430.0, 968988605.0, 971137939.0, 972781069.0, 974686848.0, 974705272.0, 974736215.0, 976124448.0, 977982028.0, 978425484.0, 979409404.0, 986104028.0, 992196391.0, 992248547.0, 993836717.0, 995889240.0, 1002132675.0, 1004071328.0, 1006556968.0, 1009740561.0, 1013138097.0, 1013711444.0, 1020278697.0, 1021279499.0, 1022545276.0, 1024803485.0, 1025860449.0, 1030116197.0, 1032191147.0, 1040271122.0, 1042255533.0, 1046194432.0, 1056698628.0, 1058834503.0, 1074043485.0, 1077441961.0, 1082122338.0, 1082552491.0, 1085080566.0, 1087859748.0, 1092229803.0, 1093653720.0, 1100030563.0, 1107160684.0, 1107193678.0, 1107364727.0, 1111498546.0, 1111573463.0, 1111832354.0, 1112208094.0, 1112472214.0, 1113691304.0, 1116728767.0, 1119961208.0, 1121089189.0, 1124122515.0, 1129521770.0, 1134971957.0, 1138112585.0, 1138986644.0, 1142789183.0, 1146934864.0, 1149373611.0, 1155481711.0, 1166040414.0, 1167368569.0, 1172345312.0, 1173620624.0, 1174414892.0, 1174785659.0, 1175238121.0, 1183002031.0, 1188438558.0, 1192689143.0, 1196304688.0, 1204582673.0, 1208687318.0, 1209267075.0, 1209462341.0, 1214210071.0, 1216529518.0, 1217319876.0, 1217896341.0, 1218329731.0, 1222301354.0, 1223298249.0, 1231677900.0, 1239806202.0, 1241060835.0, 1242658093.0, 1243371545.0, 1244288972.0, 1245978883.0, 1250803733.0, 1253153015.0, 1254433420.0, 1255817541.0, 1262159633.0, 1268779282.0, 1269878807.0, 1274979841.0, 1278288098.0, 1286595718.0, 1290574176.0, 1292689226.0, 1296439319.0, 1299381589.0, 1300596421.0, 1303105528.0, 1303497281.0, 1303677692.0, 1311170241.0, 1312976319.0, 1322058520.0, 1328925176.0, 1329765376.0, 1351444550.0, 1356396558.0, 1364202445.0, 1379257321.0, 1387206390.0, 1388949339.0, 1390079165.0, 1394644962.0, 1395023758.0, 1397065477.0, 1399110459.0, 1399941507.0, 1400699820.0, 1408188436.0, 1417253575.0, 1424811843.0, 1428011171.0, 1429968623.0, 1430363929.0, 1433269725.0, 1433650240.0, 1437518659.0, 1439417853.0, 1439771303.0, 1439794744.0, 1440159870.0, 1442715703.0, 1444585050.0, 1445257100.0, 1445536736.0, 1446208583.0, 1446670567.0, 1447594757.0, 1447968409.0, 1449266900.0]\n"
     ]
    }
   ],
   "source": [
    "schsmth=[]\n",
    "schgraph=[]\n",
    "schdates=[]\n",
    "schdatesfloat=[]\n",
    "counter=0\n",
    "for i in ageschindler:\n",
    "    schdatesfloat.append(i[3].value)\n",
    "    schdates.append(changetime(i[3].value))\n",
    "    schsmth.append(i[2].value)#array vseh ocen\n",
    "#print(schsmth)\n",
    "vsota1=0\n",
    "for i in range(len(schsmth)):\n",
    "    for j in range(0,i+1):\n",
    "        vsota1+=schsmth[j]\n",
    "    schgraph.append(vsota1/(i+1))#array spreminjanja povprečja ocene\n",
    "    vsota1=0\n",
    "print(schdatesfloat)"
   ]
  },
  {
   "cell_type": "code",
   "execution_count": 52,
   "metadata": {
    "collapsed": false
   },
   "outputs": [
    {
     "data": {
      "image/png": "[encoded data removed]",
      "text/plain": [
       "<matplotlib.figure.Figure at 0x6a86830>"
      ]
     },
     "metadata": {},
     "output_type": "display_data"
    }
   ],
   "source": [
    "\n",
    "fig = plt.figure(figsize=(20, 6))\n",
    "\n",
    "plt.plot(range(len(schgraph)), schgraph, '.r-')\n",
    "#plt.plot(range(len(shawgraph)), shawgraph, '.b-')\n",
    "plt.title(\"Spreminjanje ocene za Schindler's List\")\n",
    "\n",
    "plt.show()"
   ]
  },
  {
   "cell_type": "code",
   "execution_count": 60,
   "metadata": {
    "collapsed": false
   },
   "outputs": [
    {
     "data": {
      "image/png": "[encoded data removed]",
      "text/plain": [
       "<matplotlib.figure.Figure at 0xbbc92b0>"
      ]
     },
     "metadata": {},
     "output_type": "display_data"
    }
   ],
   "source": [
    "fig = plt.figure(figsize=(20, 6))\n",
    "\n",
    "#plt.plot(range(len(schgraph)), schgraph, '.r-')\n",
    "plt.plot(range(len(shawgraph)), shawgraph, '.b-')\n",
    "plt.title(\"Spreminjanje ocene za Shawshank Redemption\")\n",
    "plt.show()"
   ]
  },
  {
   "cell_type": "code",
   "execution_count": 72,
   "metadata": {
    "collapsed": false
   },
   "outputs": [
    {
     "name": "stdout",
     "output_type": "stream",
     "text": [
      "(array([  8.00000000e+08,   9.00000000e+08,   1.00000000e+09,\n",
      "         1.10000000e+09,   1.20000000e+09,   1.30000000e+09,\n",
      "         1.40000000e+09,   1.50000000e+09]), <a list of 8 Text xticklabel objects>)\n"
     ]
    },
    {
     "data": {
      "image/png": "[encoded data removed]",
      "text/plain": [
       "<matplotlib.figure.Figure at 0xe3a37b0>"
      ]
     },
     "metadata": {},
     "output_type": "display_data"
    }
   ],
   "source": [
    "fig = plt.figure(figsize=(20, 6))\n",
    "\n",
    "plt.plot(schdatesfloat, schgraph, '.r-', label=\"Schindler's List\")\n",
    "plt.plot(shawdatesfloat, shawgraph, '.b-', label=\"Shawshank Redemption\")\n",
    "plt.title(\"Primerjava spreminjanja ocen Schindler's List in Shawshank Redemption\")\n",
    "tickarray=[]\n",
    "print(plt.xticks())\n",
    "for i in plt.xticks()[0]:\n",
    "    #print(i)\n",
    "    tickarray.append(changetime(i))\n",
    "\n",
    "plt.gca().set_xticklabels(tickarray)\n",
    "plt.legend(loc='upper right')\n",
    "plt.show()"
   ]
  },
  {
   "cell_type": "code",
   "execution_count": null,
   "metadata": {
    "collapsed": false
   },
   "outputs": [],
   "source": []
  }
 ],
 "metadata": {
  "kernelspec": {
   "display_name": "Python [default]",
   "language": "python",
   "name": "python3"
  },
  "language_info": {
   "codemirror_mode": {
    "name": "ipython",
    "version": 3
   },
   "file_extension": ".py",
   "mimetype": "text/x-python",
   "name": "python",
   "nbconvert_exporter": "python",
   "pygments_lexer": "ipython3",
   "version": "3.5.2"
  }
 },
 "nbformat": 4,
 "nbformat_minor": 0
}
